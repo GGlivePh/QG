{
  "cells": [
    {
      "cell_type": "markdown",
      "metadata": {
        "id": "view-in-github",
        "colab_type": "text"
      },
      "source": [
        "<a href=\"https://colab.research.google.com/github/GGlivePh/QG/blob/main/NormalDist.ipynb\" target=\"_parent\"><img src=\"https://colab.research.google.com/assets/colab-badge.svg\" alt=\"Open In Colab\"/></a>"
      ]
    },
    {
      "cell_type": "code",
      "source": [
        "!git clone https://github.com/GGlivePh/QG.git"
      ],
      "metadata": {
        "id": "X6I057zU0exM",
        "colab": {
          "base_uri": "https://localhost:8080/"
        },
        "outputId": "7fb1214f-7426-4858-96bc-917694e548b3"
      },
      "execution_count": null,
      "outputs": [
        {
          "output_type": "stream",
          "name": "stdout",
          "text": [
            "Cloning into 'QG'...\n",
            "remote: Enumerating objects: 16, done.\u001b[K\n",
            "remote: Counting objects: 100% (16/16), done.\u001b[K\n",
            "remote: Compressing objects: 100% (16/16), done.\u001b[K\n",
            "remote: Total 16 (delta 5), reused 0 (delta 0), pack-reused 0 (from 0)\u001b[K\n",
            "Receiving objects: 100% (16/16), 7.77 KiB | 7.77 MiB/s, done.\n",
            "Resolving deltas: 100% (5/5), done.\n"
          ]
        }
      ]
    },
    {
      "cell_type": "code",
      "source": [
        "import os\n",
        "os.chdir('QG')"
      ],
      "metadata": {
        "id": "d8POwgNw12qv"
      },
      "execution_count": null,
      "outputs": []
    },
    {
      "cell_type": "markdown",
      "metadata": {
        "id": "ukUq6oQ40ZF8"
      },
      "source": [
        "# Quantitative Genetics- Multivariate Normal\n",
        "We will be using the `Jupyter notebook` for some activities in this part of the QG 2024 course. Every notebook has an associated language called the `kernel`. We will be using Python 3 kernel from the IPython project."
      ]
    },
    {
      "cell_type": "markdown",
      "metadata": {
        "id": "-muKZ9E70ZGC"
      },
      "source": [
        "# 1. Example: One individual"
      ]
    },
    {
      "cell_type": "code",
      "execution_count": 3,
      "metadata": {
        "id": "yRKiBgAL0ZGD"
      },
      "outputs": [],
      "source": [
        "import numpy as np"
      ]
    },
    {
      "cell_type": "code",
      "execution_count": 14,
      "metadata": {
        "id": "TpMrVmfY0ZGF"
      },
      "outputs": [],
      "source": [
        "\n",
        "mu = 5\n",
        "Sigma_g = 0.4\n",
        "SigmaY = 1\n",
        "h2 = 0.4\n",
        "y = 10\n",
        "Σ12 = Sigma_g = h2*SigmaY\n",
        "Σ22 = SigmaY\n",
        "\n"
      ]
    },
    {
      "cell_type": "code",
      "execution_count": 15,
      "metadata": {
        "id": "zstBrINq0ZGG",
        "colab": {
          "base_uri": "https://localhost:8080/"
        },
        "outputId": "781366c6-75f1-4a86-fd26-920c02bd7203"
      },
      "outputs": [
        {
          "output_type": "stream",
          "name": "stdout",
          "text": [
            "2.0\n"
          ]
        }
      ],
      "source": [
        "g = 0 + (Σ12 * (Σ22** -1) *(y - mu))\n",
        "\n",
        "# Print the result\n",
        "print(g)"
      ]
    },
    {
      "cell_type": "markdown",
      "metadata": {
        "id": "8wxcR0KG0ZGI"
      },
      "source": [
        "## 2 Two individuals and their phenotypes"
      ]
    },
    {
      "cell_type": "code",
      "execution_count": 16,
      "metadata": {
        "id": "Jogr5QVe0ZGJ"
      },
      "outputs": [],
      "source": [
        "mu1 = np.array([0, 0])\n",
        "mu2 = np.array([3, 3])\n",
        "Σ11 = Σ12 = Σ21 = np.array([[0.4 * 1.0, 0.5 * 0.4 * 1.0],\n",
        "                            [0.5 * 0.4 * 1.0, 0.4 * 1.0]])\n",
        "Σ22 = np.array([[1.0, 0.5 * 0.4 * 1.0],\n",
        "                [0.5 * 0.4 * 1.0, 1.0]])\n",
        "Y = np.array([2, 4])"
      ]
    },
    {
      "cell_type": "markdown",
      "metadata": {
        "id": "W1i9WEa10ZGJ"
      },
      "source": [
        "\n",
        "We need to find the genetic values (g1 and g2; given the phenotypes of the two individuals i.e., y1 and y2"
      ]
    },
    {
      "cell_type": "code",
      "execution_count": 19,
      "metadata": {
        "id": "1LZ-vKWL0ZGJ",
        "colab": {
          "base_uri": "https://localhost:8080/"
        },
        "outputId": "6f87ee59-79c8-4668-f1ce-e3741f0e7f1e"
      },
      "outputs": [
        {
          "output_type": "stream",
          "name": "stdout",
          "text": [
            "[-0.25  0.25]\n"
          ]
        }
      ],
      "source": [
        "g = mu1 + Σ12 @ np.linalg.inv(Σ22) @ (Y - mu2)\n",
        "print(g)"
      ]
    }
  ],
  "metadata": {
    "kernelspec": {
      "display_name": "Python 3 (ipykernel)",
      "language": "python",
      "name": "python3"
    },
    "language_info": {
      "codemirror_mode": {
        "name": "ipython",
        "version": 3
      },
      "file_extension": ".py",
      "mimetype": "text/x-python",
      "name": "python",
      "nbconvert_exporter": "python",
      "pygments_lexer": "ipython3",
      "version": "3.9.7"
    },
    "colab": {
      "provenance": [],
      "include_colab_link": true
    }
  },
  "nbformat": 4,
  "nbformat_minor": 0
}