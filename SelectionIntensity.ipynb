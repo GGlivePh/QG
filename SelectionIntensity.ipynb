{
  "cells": [
    {
      "cell_type": "markdown",
      "metadata": {
        "id": "view-in-github",
        "colab_type": "text"
      },
      "source": [
        "<a href=\"https://colab.research.google.com/github/GGlivePh/QG/blob/main/SelectionIntensity.ipynb\" target=\"_parent\"><img src=\"https://colab.research.google.com/assets/colab-badge.svg\" alt=\"Open In Colab\"/></a>"
      ]
    },
    {
      "cell_type": "code",
      "source": [
        "!git clone https://github.com/GGlivePh/QG.git"
      ],
      "metadata": {
        "id": "X6I057zU0exM",
        "colab": {
          "base_uri": "https://localhost:8080/"
        },
        "outputId": "7fb1214f-7426-4858-96bc-917694e548b3"
      },
      "execution_count": null,
      "outputs": [
        {
          "output_type": "stream",
          "name": "stdout",
          "text": [
            "Cloning into 'QG'...\n",
            "remote: Enumerating objects: 16, done.\u001b[K\n",
            "remote: Counting objects: 100% (16/16), done.\u001b[K\n",
            "remote: Compressing objects: 100% (16/16), done.\u001b[K\n",
            "remote: Total 16 (delta 5), reused 0 (delta 0), pack-reused 0 (from 0)\u001b[K\n",
            "Receiving objects: 100% (16/16), 7.77 KiB | 7.77 MiB/s, done.\n",
            "Resolving deltas: 100% (5/5), done.\n"
          ]
        }
      ]
    },
    {
      "cell_type": "code",
      "source": [
        "import os\n",
        "os.chdir('QG')"
      ],
      "metadata": {
        "id": "d8POwgNw12qv"
      },
      "execution_count": null,
      "outputs": []
    },
    {
      "cell_type": "markdown",
      "metadata": {
        "id": "Zn_b5QnFzREJ"
      },
      "source": [
        "# Quantitative Genetics- Selection Intensity\n",
        "We will be using the `Jupyter notebook` for some activities in this part of the QG 2024 course. Every notebook has an associated language called the `kernel`. We will be using Python 3 kernel from the IPython project."
      ]
    },
    {
      "cell_type": "markdown",
      "source": [
        "#1\n",
        "You want to select 20% of the top individuals for a trait that has a phenotypic\n",
        "variation of 2 (Vp = 2.0). Calculate the selection intensity and selection differential."
      ],
      "metadata": {
        "id": "vmY7ImNCyJGb"
      }
    },
    {
      "cell_type": "code",
      "source": [
        "import scipy.stats as stats\n",
        "import numpy as np"
      ],
      "metadata": {
        "id": "CKUz7XvnyeER"
      },
      "execution_count": 1,
      "outputs": []
    },
    {
      "cell_type": "code",
      "source": [
        "# Parameters\n",
        "B = 0.2  # Proportion of selected individuals\n",
        "Vp = 2.0  # Phenotypic variance\n",
        "\n",
        "# Truncation point\n",
        "t = stats.norm.ppf(1 - B)\n",
        "\n",
        "# Density at truncation point\n",
        "phi = stats.norm.pdf(t)\n",
        "\n",
        "# Intensity\n",
        "i = phi / B\n",
        "\n",
        "# Selection differential\n",
        "S = i * np.sqrt(Vp)"
      ],
      "metadata": {
        "id": "boxrtTdvyihE"
      },
      "execution_count": 5,
      "outputs": []
    },
    {
      "cell_type": "code",
      "source": [
        "# Output results\n",
        "i, S"
      ],
      "metadata": {
        "outputId": "dd699fe4-3205-414d-f0dc-a64f348fc788",
        "colab": {
          "base_uri": "https://localhost:8080/"
        },
        "id": "8x9A1cyL0Ccp"
      },
      "execution_count": 6,
      "outputs": [
        {
          "output_type": "execute_result",
          "data": {
            "text/plain": [
              "(1.3998096020390416, 1.9796297239436977)"
            ]
          },
          "metadata": {},
          "execution_count": 6
        }
      ]
    },
    {
      "cell_type": "markdown",
      "metadata": {
        "id": "-muKZ9E70ZGC"
      },
      "source": [
        "#2\n",
        "For a set of proportion of individuals selected for breeding (B starting from 1% up to\n",
        "99%, with an increment of 1%), plot the intensity of selection (i) as a function of the\n",
        "proportion selected for breeding (B)."
      ]
    },
    {
      "cell_type": "code",
      "execution_count": 8,
      "metadata": {
        "id": "yRKiBgAL0ZGD"
      },
      "outputs": [],
      "source": [
        "import numpy as np\n",
        "import scipy.stats as stats\n",
        "import matplotlib.pyplot as plt"
      ]
    },
    {
      "cell_type": "code",
      "execution_count": 9,
      "metadata": {
        "id": "TpMrVmfY0ZGF"
      },
      "outputs": [],
      "source": [
        "# Sequence of B values\n",
        "B = np.arange(0.01, 1.0, 0.01)\n",
        "\n",
        "# Truncation point for each B\n",
        "t = stats.norm.ppf(1 - B)\n",
        "\n",
        "# Density at truncation point for each B\n",
        "phi = stats.norm.pdf(t)\n",
        "\n",
        "# Intensity for each B\n",
        "i = phi / B\n",
        "\n"
      ]
    },
    {
      "cell_type": "code",
      "execution_count": 10,
      "metadata": {
        "id": "zstBrINq0ZGG",
        "colab": {
          "base_uri": "https://localhost:8080/",
          "height": 472
        },
        "outputId": "57eb1072-bce0-4317-dfeb-55c969c7adb9"
      },
      "outputs": [
        {
          "output_type": "display_data",
          "data": {
            "text/plain": [
              "<Figure size 640x480 with 1 Axes>"
            ],
            "image/png": "[encoded data removed]"
          },
          "metadata": {}
        }
      ],
      "source": [
        "# Plot\n",
        "plt.plot(B, i, linestyle='-', color='blue')\n",
        "plt.xlabel('B')\n",
        "plt.ylabel('Intensity (i)')\n",
        "plt.title('Intensity vs. B')\n",
        "plt.show()"
      ]
    }
  ],
  "metadata": {
    "kernelspec": {
      "display_name": "Python 3 (ipykernel)",
      "language": "python",
      "name": "python3"
    },
    "language_info": {
      "codemirror_mode": {
        "name": "ipython",
        "version": 3
      },
      "file_extension": ".py",
      "mimetype": "text/x-python",
      "name": "python",
      "nbconvert_exporter": "python",
      "pygments_lexer": "ipython3",
      "version": "3.9.7"
    },
    "colab": {
      "provenance": [],
      "include_colab_link": true
    }
  },
  "nbformat": 4,
  "nbformat_minor": 0
}