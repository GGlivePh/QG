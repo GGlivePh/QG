{
  "cells": [
    {
      "cell_type": "code",
      "source": [
        "!git clone https://github.com/GGlivePh/QG.git"
      ],
      "metadata": {
        "id": "bUYbU0oA_GPa"
      },
      "id": "bUYbU0oA_GPa",
      "execution_count": null,
      "outputs": []
    },
    {
      "cell_type": "code",
      "source": [
        "import os\n",
        "os.chdir('QG')"
      ],
      "metadata": {
        "id": "zPYaGVhj_HU7"
      },
      "id": "zPYaGVhj_HU7",
      "execution_count": null,
      "outputs": []
    },
    {
      "cell_type": "markdown",
      "id": "12536ea6",
      "metadata": {
        "id": "12536ea6"
      },
      "source": [
        "## Image Processing - Lecture"
      ]
    },
    {
      "cell_type": "markdown",
      "id": "8862d376",
      "metadata": {
        "id": "8862d376"
      },
      "source": [
        "#### Import required libraries"
      ]
    },
    {
      "cell_type": "code",
      "execution_count": null,
      "id": "04ebffdf",
      "metadata": {
        "id": "04ebffdf"
      },
      "outputs": [],
      "source": [
        "import cv2\n",
        "import numpy as np\n",
        "from matplotlib import cm\n",
        "from skimage.color import rgb2gray\n",
        "from skimage.io import imread, imsave, imshow"
      ]
    },
    {
      "cell_type": "markdown",
      "id": "30511253",
      "metadata": {
        "id": "30511253"
      },
      "source": [
        "#### Open image with pixel values ranging from 0 to 1"
      ]
    },
    {
      "cell_type": "code",
      "execution_count": null,
      "id": "fbc060e2",
      "metadata": {
        "id": "fbc060e2"
      },
      "outputs": [],
      "source": [
        "image = imread('corn1.jpg')/ 255"
      ]
    },
    {
      "cell_type": "markdown",
      "id": "66c2fd49",
      "metadata": {
        "id": "66c2fd49"
      },
      "source": [
        "### Point Operators"
      ]
    },
    {
      "cell_type": "markdown",
      "id": "42e86fc2",
      "metadata": {
        "id": "42e86fc2"
      },
      "source": [
        "#### Brightness adjustment by intensity scaling"
      ]
    },
    {
      "cell_type": "code",
      "execution_count": null,
      "id": "c2724ca8",
      "metadata": {
        "id": "c2724ca8"
      },
      "outputs": [],
      "source": [
        "%matplotlib inline\n",
        "import matplotlib.pyplot as plt\n",
        "\n",
        "scale = 7\n",
        "scaled_image = np.clip(scale * image, 0, 1)\n",
        "\n",
        "plt.figure(figsize=(12, 8))\n",
        "plt.subplot(1, 2, 1)\n",
        "plt.imshow(image)\n",
        "plt.title('Original image')\n",
        "plt.axis('off')\n",
        "plt.subplot(1, 2, 2)\n",
        "plt.imshow(scaled_image)\n",
        "plt.title('Scaled image')\n",
        "plt.axis('off')\n",
        "plt.tight_layout()\n",
        "plt.show()\n",
        "\n",
        "imsave('chap2_Brightness_scaled.png', np.array(scaled_image * 255, dtype=np.uint8))"
      ]
    },
    {
      "cell_type": "markdown",
      "id": "fb4c7e87",
      "metadata": {
        "id": "fb4c7e87"
      },
      "source": [
        "#### Contrast adjustment by changing gamma"
      ]
    },
    {
      "cell_type": "code",
      "execution_count": null,
      "id": "691d426b",
      "metadata": {
        "id": "691d426b"
      },
      "outputs": [],
      "source": [
        "%matplotlib inline\n",
        "import matplotlib.pyplot as plt\n",
        "\n",
        "gamma = 5\n",
        "gamma_image = np.clip(image ** gamma, 0, 1)\n",
        "\n",
        "plt.figure(figsize=(12, 8))\n",
        "plt.subplot(1, 2, 1)\n",
        "plt.imshow(image)\n",
        "plt.title('Original image')\n",
        "plt.axis('off')\n",
        "plt.subplot(1, 2, 2)\n",
        "plt.imshow(gamma_image)\n",
        "plt.title('\\u03B3={}'.format(gamma))\n",
        "plt.axis('off')\n",
        "plt.tight_layout()\n",
        "plt.show()\n",
        "\n",
        "imsave('Contrast_gamma.png', np.array(gamma_image * 255, dtype=np.uint8))"
      ]
    },
    {
      "cell_type": "markdown",
      "id": "8ac522fa",
      "metadata": {
        "id": "8ac522fa"
      },
      "source": [
        "### Linear filtering - Convolution"
      ]
    },
    {
      "cell_type": "markdown",
      "id": "65718038",
      "metadata": {
        "id": "65718038"
      },
      "source": [
        "#### Reopen image with pixel values ranging from 0 to 255"
      ]
    },
    {
      "cell_type": "code",
      "execution_count": null,
      "id": "3f6a00c0",
      "metadata": {
        "id": "3f6a00c0"
      },
      "outputs": [],
      "source": [
        "image = imread('image1.png')"
      ]
    },
    {
      "cell_type": "markdown",
      "id": "1079662b",
      "metadata": {
        "id": "1079662b"
      },
      "source": [
        "#### Identity"
      ]
    },
    {
      "cell_type": "code",
      "execution_count": null,
      "id": "1b4ffd04",
      "metadata": {
        "id": "1b4ffd04"
      },
      "outputs": [],
      "source": [
        "I = np.array([[0, 0, 0],\n",
        "              [0, 1, 0],\n",
        "              [0, 0, 0]])\n",
        "image_I = cv2.filter2D(image, -1, I)\n",
        "plt.figure(figsize=(12, 12))\n",
        "plt.imshow(image_I)\n",
        "plt.axis('off')\n",
        "plt.show()"
      ]
    },
    {
      "cell_type": "markdown",
      "id": "6cb75529",
      "metadata": {
        "id": "6cb75529"
      },
      "source": [
        "#### Edge Detection - Sobel Vertical"
      ]
    },
    {
      "cell_type": "code",
      "execution_count": null,
      "id": "6bbabeea",
      "metadata": {
        "id": "6bbabeea"
      },
      "outputs": [],
      "source": [
        "sobelvert = np.array([[-1, 0, 1],\n",
        "                      [-2, 0, 2],\n",
        "                      [-1, 0, 1]])\n",
        "image_sobelvert = cv2.filter2D(image, -1, sobelvert)\n",
        "plt.figure(figsize=(12, 12))\n",
        "plt.imshow(image_sobelvert)\n",
        "plt.axis('off')\n",
        "plt.show()"
      ]
    },
    {
      "cell_type": "markdown",
      "id": "59bbdd9f",
      "metadata": {
        "id": "59bbdd9f"
      },
      "source": [
        "#### Edge Detection - Sobel Horizontal"
      ]
    },
    {
      "cell_type": "code",
      "execution_count": null,
      "id": "aa56ddd4",
      "metadata": {
        "id": "aa56ddd4"
      },
      "outputs": [],
      "source": [
        "sobelhoriz = np.array([[ 1,  2,  1],\n",
        "                       [ 0,  0,  0],\n",
        "                       [-1, -2, -1]])\n",
        "image_sobelhoriz = cv2.filter2D(image, -1, sobelhoriz)\n",
        "plt.figure(figsize=(12, 12))\n",
        "plt.imshow(image_sobelhoriz)\n",
        "plt.axis('off')\n",
        "plt.show()"
      ]
    },
    {
      "cell_type": "markdown",
      "id": "7690c7a7",
      "metadata": {
        "id": "7690c7a7"
      },
      "source": [
        "#### Plot Sober Vertical and Horizontal"
      ]
    },
    {
      "cell_type": "code",
      "execution_count": null,
      "id": "e42ab445",
      "metadata": {
        "id": "e42ab445"
      },
      "outputs": [],
      "source": [
        "plt.figure(figsize=(12, 8))\n",
        "plt.subplot(1, 2, 1)\n",
        "plt.imshow(image_sobelvert)\n",
        "plt.title('Sobel Vertical Edge')\n",
        "plt.axis('off')\n",
        "plt.subplot(1, 2, 2)\n",
        "plt.imshow(image_sobelhoriz)\n",
        "plt.title('Sobel Horizontal Edge')\n",
        "plt.axis('off')\n",
        "plt.tight_layout()\n",
        "plt.show()"
      ]
    },
    {
      "cell_type": "markdown",
      "id": "aa3c1dcf",
      "metadata": {
        "id": "aa3c1dcf"
      },
      "source": [
        "#### Other filters for edge detection"
      ]
    },
    {
      "cell_type": "code",
      "execution_count": null,
      "id": "12edd6f4",
      "metadata": {
        "id": "12edd6f4"
      },
      "outputs": [],
      "source": [
        "edge = np.array([[-1, -1, -1],\n",
        "                 [-1,  8, -1],\n",
        "                 [-1, -1, -1]])\n",
        "image_edge = cv2.filter2D(image, -1, edge)\n",
        "plt.figure(figsize=(12, 12))\n",
        "plt.imshow(image_edge)\n",
        "plt.axis('off')\n",
        "plt.show()"
      ]
    },
    {
      "cell_type": "markdown",
      "id": "a1f87e19",
      "metadata": {
        "id": "a1f87e19"
      },
      "source": [
        "#### Sharpen"
      ]
    },
    {
      "cell_type": "code",
      "execution_count": null,
      "id": "e6423666",
      "metadata": {
        "id": "e6423666"
      },
      "outputs": [],
      "source": [
        "sharp = np.array([[ 0, -1,  0],\n",
        "                  [-1,  5, -1],\n",
        "                  [ 0, -1,  0]])\n",
        "image_sharp = cv2.filter2D(image, -1, sharp)\n",
        "plt.figure(figsize=(12, 12))\n",
        "plt.imshow(image_sharp)\n",
        "plt.axis('off')\n",
        "plt.show()"
      ]
    },
    {
      "cell_type": "markdown",
      "id": "fa84f5a9",
      "metadata": {
        "id": "fa84f5a9"
      },
      "source": [
        "### Gaussian Filter"
      ]
    },
    {
      "cell_type": "code",
      "execution_count": null,
      "id": "d86f10b9",
      "metadata": {
        "id": "d86f10b9"
      },
      "outputs": [],
      "source": [
        "image_gauss1 = cv2.GaussianBlur(image, (0, 0), 1)\n",
        "image_gauss2 = cv2.GaussianBlur(image, (0, 0), 2)\n",
        "image_gauss3 = cv2.GaussianBlur(image, (0, 0), 3)\n",
        "\n",
        "plt.figure(figsize=(12, 12))\n",
        "plt.subplot(1, 3, 1)\n",
        "plt.imshow(image_gauss1)\n",
        "plt.title('Gaussian \\u03C3=1')\n",
        "plt.axis('off')\n",
        "plt.subplot(1, 3, 2)\n",
        "plt.imshow(image_gauss2)\n",
        "plt.title('Gaussian \\u03C3=2')\n",
        "plt.axis('off')\n",
        "plt.subplot(1, 3, 3)\n",
        "plt.imshow(image_gauss3)\n",
        "plt.title('Gaussian \\u03C3=3')\n",
        "plt.axis('off')\n",
        "plt.tight_layout()\n",
        "plt.show()\n"
      ]
    },
    {
      "cell_type": "markdown",
      "id": "f8185b53",
      "metadata": {
        "id": "f8185b53"
      },
      "source": [
        "#### Template Matching"
      ]
    },
    {
      "cell_type": "markdown",
      "id": "71654e60",
      "metadata": {
        "id": "71654e60"
      },
      "source": [
        "#### Open Corn Example"
      ]
    },
    {
      "cell_type": "code",
      "execution_count": null,
      "id": "ec25359b",
      "metadata": {
        "id": "ec25359b"
      },
      "outputs": [],
      "source": [
        "image = imread('corn1.jpg')/ 255"
      ]
    },
    {
      "cell_type": "code",
      "execution_count": null,
      "id": "083e02ac",
      "metadata": {
        "id": "083e02ac"
      },
      "outputs": [],
      "source": [
        "#include corn filter\n",
        "\n",
        "\n",
        "sharp = np.array([[ 1, 1,  1],\n",
        "                  [1, 1, 1],\n",
        "                  [ 1, 1,  1]])\n",
        "image_sharp = cv2.filter2D(image, -1, sharp)\n",
        "plt.figure(figsize=(12, 12))\n",
        "plt.imshow(image_sharp)\n",
        "plt.axis('off')\n",
        "plt.show()"
      ]
    },
    {
      "cell_type": "code",
      "execution_count": null,
      "id": "b161c6cb",
      "metadata": {
        "id": "b161c6cb"
      },
      "outputs": [],
      "source": [
        "sigma = 8 # Standard Deviation\n",
        "size = 4  # Window Size\n",
        "x, y = np.meshgrid(range(-size, size+1), range(-size, size+1))\n",
        "M = x.shape[0] - 1\n",
        "N = y.shape[0] - 1\n",
        "exp_comp = -(x**2 + y**2) / (2 * sigma**2)\n",
        "kernel = np.exp(exp_comp) / (2 * np.pi * sigma**2)\n",
        "kernel /= np.sum(kernel)\n",
        "\n",
        "fig, ax = plt.subplots(subplot_kw={\"projection\": \"3d\"})\n",
        "fig.set_size_inches(10, 10)\n",
        "surf = ax.plot_surface(x, y, kernel, cmap=cm.viridis)"
      ]
    },
    {
      "cell_type": "markdown",
      "id": "fc11874e",
      "metadata": {
        "id": "fc11874e"
      },
      "source": [
        "#### Manually convolute Gaussian kernel over image"
      ]
    },
    {
      "cell_type": "code",
      "execution_count": null,
      "id": "1059d0a0",
      "metadata": {
        "id": "1059d0a0"
      },
      "outputs": [],
      "source": [
        "# Load image as grayscale\n",
        "I = rgb2gray(image) * 255\n",
        "# Initialize resulting image\n",
        "output = np.zeros(I.shape)\n",
        "# Pad the image with zeros\n",
        "I = np.pad(I, ((size,size), (size,size)))\n",
        "\n",
        "# Convolution\n",
        "for i in range(I.shape[0] - M):\n",
        "    for j in range(I.shape[1] - N):\n",
        "        temp = I[i:i+M+1, j:j+N+1] * kernel\n",
        "        output[i, j] = np.sum(temp)\n",
        "\n",
        "# Resulting image after applying Gaussian blur\n",
        "output = np.array(output, np.uint8)\n",
        "plt.figure(figsize=(12, 12))\n",
        "plt.imshow(output, cmap='gray')\n",
        "plt.axis('off')\n",
        "plt.show()"
      ]
    }
  ],
  "metadata": {
    "kernelspec": {
      "display_name": "Python 3 (ipykernel)",
      "language": "python",
      "name": "python3"
    },
    "language_info": {
      "codemirror_mode": {
        "name": "ipython",
        "version": 3
      },
      "file_extension": ".py",
      "mimetype": "text/x-python",
      "name": "python",
      "nbconvert_exporter": "python",
      "pygments_lexer": "ipython3",
      "version": "3.9.7"
    },
    "colab": {
      "provenance": []
    }
  },
  "nbformat": 4,
  "nbformat_minor": 5
}