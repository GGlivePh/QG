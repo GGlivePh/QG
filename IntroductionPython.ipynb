{
  "cells": [
    {
      "cell_type": "markdown",
      "metadata": {
        "id": "view-in-github",
        "colab_type": "text"
      },
      "source": [
        "<a href=\"https://colab.research.google.com/github/GGlivePh/QG/blob/main/IntroductionPython.ipynb\" target=\"_parent\"><img src=\"https://colab.research.google.com/assets/colab-badge.svg\" alt=\"Open In Colab\"/></a>"
      ]
    },
    {
      "cell_type": "code",
      "source": [
        "!git clone https://github.com/GGlivePh/QG.git"
      ],
      "metadata": {
        "id": "X6I057zU0exM",
        "colab": {
          "base_uri": "https://localhost:8080/"
        },
        "outputId": "eccb147a-4d46-43af-cf58-466dc3020982"
      },
      "execution_count": 4,
      "outputs": [
        {
          "output_type": "stream",
          "name": "stdout",
          "text": [
            "Cloning into 'QG'...\n",
            "remote: Enumerating objects: 36, done.\u001b[K\n",
            "remote: Counting objects: 100% (36/36), done.\u001b[K\n",
            "remote: Compressing objects: 100% (36/36), done.\u001b[K\n",
            "remote: Total 36 (delta 14), reused 0 (delta 0), pack-reused 0 (from 0)\u001b[K\n",
            "Receiving objects: 100% (36/36), 16.66 KiB | 8.33 MiB/s, done.\n",
            "Resolving deltas: 100% (14/14), done.\n"
          ]
        }
      ]
    },
    {
      "cell_type": "code",
      "source": [
        "import os\n",
        "os.chdir('QG')"
      ],
      "metadata": {
        "id": "d8POwgNw12qv"
      },
      "execution_count": 5,
      "outputs": []
    },
    {
      "cell_type": "markdown",
      "metadata": {
        "id": "ukUq6oQ40ZF8"
      },
      "source": [
        "# Quantitative Genetics- Introduction to python\n",
        "We will be using the `Jupyter notebook` for some activities in this part of the QG 2024 course. Every notebook has an associated language called the `kernel`. We will be using Python 3 kernel from the IPython project."
      ]
    },
    {
      "cell_type": "markdown",
      "metadata": {
        "id": "-muKZ9E70ZGC"
      },
      "source": [
        "# 1. Python data type"
      ]
    },
    {
      "cell_type": "markdown",
      "metadata": {
        "id": "deXoOMOn0ZGD"
      },
      "source": [
        "## 1.1 Numbers"
      ]
    },
    {
      "cell_type": "code",
      "execution_count": null,
      "metadata": {
        "id": "yRKiBgAL0ZGD",
        "colab": {
          "base_uri": "https://localhost:8080/"
        },
        "outputId": "067d895f-5d2b-4aa8-828e-10b3aaafc939"
      },
      "outputs": [
        {
          "output_type": "execute_result",
          "data": {
            "text/plain": [
              "34"
            ]
          },
          "metadata": {},
          "execution_count": 6
        }
      ],
      "source": [
        "x = 34      # Integer\n",
        "x"
      ]
    },
    {
      "cell_type": "code",
      "execution_count": null,
      "metadata": {
        "id": "TpMrVmfY0ZGF",
        "colab": {
          "base_uri": "https://localhost:8080/"
        },
        "outputId": "4b5cf985-865c-4a50-dda7-5fb221521447"
      },
      "outputs": [
        {
          "output_type": "execute_result",
          "data": {
            "text/plain": [
              "3.45"
            ]
          },
          "metadata": {},
          "execution_count": 7
        }
      ],
      "source": [
        "y = 3.45    # Numeric or Floats\n",
        "y"
      ]
    },
    {
      "cell_type": "markdown",
      "metadata": {
        "id": "FZeiQwe30ZGG"
      },
      "source": [
        "## 1.2 String"
      ]
    },
    {
      "cell_type": "code",
      "execution_count": null,
      "metadata": {
        "id": "zstBrINq0ZGG",
        "colab": {
          "base_uri": "https://localhost:8080/",
          "height": 35
        },
        "outputId": "781767fa-7be5-4b92-bf7e-f6d852c8c2a1"
      },
      "outputs": [
        {
          "output_type": "execute_result",
          "data": {
            "text/plain": [
              "'Hello'"
            ],
            "application/vnd.google.colaboratory.intrinsic+json": {
              "type": "string"
            }
          },
          "metadata": {},
          "execution_count": 8
        }
      ],
      "source": [
        "z = 'Hello'\n",
        "z"
      ]
    },
    {
      "cell_type": "code",
      "execution_count": null,
      "metadata": {
        "id": "ljQ2pzNW0ZGH",
        "colab": {
          "base_uri": "https://localhost:8080/",
          "height": 35
        },
        "outputId": "93e23b52-bbb6-4560-c4fd-9bb128e29996"
      },
      "outputs": [
        {
          "output_type": "execute_result",
          "data": {
            "text/plain": [
              "'This is a string'"
            ],
            "application/vnd.google.colaboratory.intrinsic+json": {
              "type": "string"
            }
          },
          "metadata": {},
          "execution_count": 9
        }
      ],
      "source": [
        "w = 'This is a string'\n",
        "w"
      ]
    },
    {
      "cell_type": "code",
      "execution_count": null,
      "metadata": {
        "id": "hqqPb-c-0ZGI",
        "colab": {
          "base_uri": "https://localhost:8080/",
          "height": 35
        },
        "outputId": "e85778e0-4ad8-45eb-99fe-eee779e360ec"
      },
      "outputs": [
        {
          "output_type": "execute_result",
          "data": {
            "text/plain": [
              "'Hello! This is a string'"
            ],
            "application/vnd.google.colaboratory.intrinsic+json": {
              "type": "string"
            }
          },
          "metadata": {},
          "execution_count": 10
        }
      ],
      "source": [
        "c = z + \"! \" + w\n",
        "c"
      ]
    },
    {
      "cell_type": "markdown",
      "metadata": {
        "id": "W1i9WEa10ZGJ"
      },
      "source": [
        "# 2. Python operators\n",
        "Operators +, -, * and / work just like in most other languages"
      ]
    },
    {
      "cell_type": "code",
      "execution_count": null,
      "metadata": {
        "id": "1LZ-vKWL0ZGJ",
        "colab": {
          "base_uri": "https://localhost:8080/"
        },
        "outputId": "f3133b64-e203-4843-f3a3-017201e1ab22"
      },
      "outputs": [
        {
          "output_type": "execute_result",
          "data": {
            "text/plain": [
              "4"
            ]
          },
          "metadata": {},
          "execution_count": 11
        }
      ],
      "source": [
        "2 + 2  # addition"
      ]
    },
    {
      "cell_type": "code",
      "execution_count": null,
      "metadata": {
        "id": "YhUmGbo70ZGK"
      },
      "outputs": [],
      "source": [
        "10 - 5 # subtraction"
      ]
    },
    {
      "cell_type": "code",
      "execution_count": null,
      "metadata": {
        "id": "pjM0T3nL0ZGK"
      },
      "outputs": [],
      "source": [
        "5 * 6  # multiplication"
      ]
    },
    {
      "cell_type": "code",
      "execution_count": null,
      "metadata": {
        "id": "38mn9Mpe0ZGL"
      },
      "outputs": [],
      "source": [
        "8 / 5  # division"
      ]
    },
    {
      "cell_type": "code",
      "execution_count": null,
      "metadata": {
        "id": "J6qPoXa00ZGL"
      },
      "outputs": [],
      "source": [
        "5 ** 2 # Exponentiation"
      ]
    },
    {
      "cell_type": "markdown",
      "metadata": {
        "id": "80lQ8wTi0ZGL"
      },
      "source": [
        "# 3. Python comparison operators\n",
        "Comparison operators are used to compare two values."
      ]
    },
    {
      "cell_type": "markdown",
      "metadata": {
        "id": "HcdvlT1e0ZGL"
      },
      "source": [
        "## 3.1 Equal"
      ]
    },
    {
      "cell_type": "code",
      "execution_count": null,
      "metadata": {
        "id": "02VpVu9D0ZGM"
      },
      "outputs": [],
      "source": [
        "x == y"
      ]
    },
    {
      "cell_type": "markdown",
      "metadata": {
        "id": "koxhJpFI0ZGM"
      },
      "source": [
        "## 3.2 Not equal"
      ]
    },
    {
      "cell_type": "code",
      "execution_count": null,
      "metadata": {
        "id": "4Yn3fJzc0ZGM"
      },
      "outputs": [],
      "source": [
        "x != y"
      ]
    },
    {
      "cell_type": "markdown",
      "metadata": {
        "id": "p13GVAZQ0ZGN"
      },
      "source": [
        "## 3.3 Greater than"
      ]
    },
    {
      "cell_type": "code",
      "execution_count": null,
      "metadata": {
        "id": "CjA22TZW0ZGN"
      },
      "outputs": [],
      "source": [
        "x > y"
      ]
    },
    {
      "cell_type": "markdown",
      "metadata": {
        "id": "rQmQjZBG0ZGN"
      },
      "source": [
        "## 3.4 Less than"
      ]
    },
    {
      "cell_type": "code",
      "execution_count": null,
      "metadata": {
        "id": "6It3RmKz0ZGN"
      },
      "outputs": [],
      "source": [
        "x < y"
      ]
    },
    {
      "cell_type": "markdown",
      "metadata": {
        "id": "5KCq-m1m0ZGN"
      },
      "source": [
        "## 3.5 Greater than or equal to"
      ]
    },
    {
      "cell_type": "code",
      "execution_count": null,
      "metadata": {
        "id": "3T_VGaES0ZGN"
      },
      "outputs": [],
      "source": [
        "x >= y"
      ]
    },
    {
      "cell_type": "markdown",
      "metadata": {
        "id": "cxd8-SUq0ZGO"
      },
      "source": [
        "## 3.6 Less than or equal to"
      ]
    },
    {
      "cell_type": "code",
      "execution_count": null,
      "metadata": {
        "id": "HJsB51fW0ZGO"
      },
      "outputs": [],
      "source": [
        "x <= y"
      ]
    },
    {
      "cell_type": "markdown",
      "metadata": {
        "id": "Cm5LzEuf0ZGO"
      },
      "source": [
        "# 4. Print\n",
        "Evaluating and display result as an `output`, versus evaluating and printing result (side-effect)."
      ]
    },
    {
      "cell_type": "code",
      "execution_count": null,
      "metadata": {
        "id": "oWpVPIgq0ZGO"
      },
      "outputs": [],
      "source": [
        "print(x)"
      ]
    },
    {
      "cell_type": "code",
      "execution_count": null,
      "metadata": {
        "id": "rG3fal960ZGO"
      },
      "outputs": [],
      "source": [
        "print('Hello World!')"
      ]
    },
    {
      "cell_type": "code",
      "execution_count": null,
      "metadata": {
        "id": "K-LaBITr0ZGO",
        "colab": {
          "base_uri": "https://localhost:8080/"
        },
        "outputId": "adc43065-c946-4024-cf95-d25209b60782"
      },
      "outputs": [
        {
          "output_type": "stream",
          "name": "stdout",
          "text": [
            "Usage: intro [OPTIONS]\n",
            "     -h                        Display this usage message\n",
            "     -H hostname               Hostname to connect to\n",
            "\n"
          ]
        }
      ],
      "source": [
        "print(\"\"\"\\\n",
        "Usage: intro [OPTIONS]\n",
        "     -h                        Display this usage message\n",
        "     -H hostname               Hostname to connect to\n",
        "\"\"\")"
      ]
    },
    {
      "cell_type": "markdown",
      "metadata": {
        "id": "e7F_QZMV0ZGY"
      },
      "source": [
        "# 5. Read and write data"
      ]
    },
    {
      "cell_type": "markdown",
      "metadata": {
        "id": "2gjfCMNh0ZGY"
      },
      "source": [
        "## 5.1 Read"
      ]
    },
    {
      "cell_type": "code",
      "execution_count": 1,
      "metadata": {
        "id": "bG1MdWTi0ZGa"
      },
      "outputs": [],
      "source": [
        "import os\n",
        "import pandas as pd"
      ]
    },
    {
      "cell_type": "code",
      "execution_count": 6,
      "metadata": {
        "id": "1Ds808a00ZGa"
      },
      "outputs": [],
      "source": [
        "data1 = pd.read_csv('data.csv')"
      ]
    },
    {
      "cell_type": "code",
      "execution_count": 7,
      "metadata": {
        "id": "Z28RK90E0ZGb",
        "outputId": "ba5ad663-1ba1-405e-c186-9fa555fdc72f",
        "colab": {
          "base_uri": "https://localhost:8080/",
          "height": 423
        }
      },
      "outputs": [
        {
          "output_type": "execute_result",
          "data": {
            "text/plain": [
              "    Animal  time  worngarea     majorl       minl       ecc  convex   circula  \\\n",
              "0     1072   1.1       1250  70.983487  25.857127  0.931294    1455  0.577206   \n",
              "1     1072   1.1       1443  81.401395  23.973642  0.955648    1590  0.585364   \n",
              "2     1072   1.1       1059  73.434056  19.969412  0.962315    1230  0.543028   \n",
              "3     1072   1.1       1316  74.330825  23.940578  0.946712    1448  0.623279   \n",
              "4     1072   1.2       1147  72.392299  21.925036  0.953034    1295  0.598544   \n",
              "..     ...   ...        ...        ...        ...       ...     ...       ...   \n",
              "94    1073   5.2       2340  81.253326  37.714001  0.885755    2461  0.744971   \n",
              "95    1073   5.2        954  67.818956  19.176542  0.959190    1058  0.570776   \n",
              "96    1073   6.1       1386  75.533162  24.815085  0.944493    1535  0.626686   \n",
              "97    1073   6.1       1557  92.498928  23.829449  0.966247    1880  0.511981   \n",
              "98    1073   6.1       1451  84.912272  22.936527  0.962827    1607  0.574856   \n",
              "\n",
              "    rightarea  perimeter  \n",
              "0   22.111250   5.307278  \n",
              "1   25.525227   5.702299  \n",
              "2   18.732651   4.885003  \n",
              "3   23.278724   5.445588  \n",
              "4   20.289283   5.083918  \n",
              "..        ...        ...  \n",
              "94  25.798500   5.732742  \n",
              "95  10.517850   3.660401  \n",
              "96  15.280650   4.412006  \n",
              "97  17.165925   4.676261  \n",
              "98  15.997275   4.514277  \n",
              "\n",
              "[99 rows x 10 columns]"
            ],
            "text/html": [
              "\n",
              "  <div id=\"df-4ce681f9-9c82-437e-b68a-c28eb914136d\" class=\"colab-df-container\">\n",
              "    <div>\n",
              "<style scoped>\n",
              "    .dataframe tbody tr th:only-of-type {\n",
              "        vertical-align: middle;\n",
              "    }\n",
              "\n",
              "    .dataframe tbody tr th {\n",
              "        vertical-align: top;\n",
              "    }\n",
              "\n",
              "    .dataframe thead th {\n",
              "        text-align: right;\n",
              "    }\n",
              "</style>\n",
              "<table border=\"1\" class=\"dataframe\">\n",
              "  <thead>\n",
              "    <tr style=\"text-align: right;\">\n",
              "      <th></th>\n",
              "      <th>Animal</th>\n",
              "      <th>time</th>\n",
              "      <th>worngarea</th>\n",
              "      <th>majorl</th>\n",
              "      <th>minl</th>\n",
              "      <th>ecc</th>\n",
              "      <th>convex</th>\n",
              "      <th>circula</th>\n",
              "      <th>rightarea</th>\n",
              "      <th>perimeter</th>\n",
              "    </tr>\n",
              "  </thead>\n",
              "  <tbody>\n",
              "    <tr>\n",
              "      <th>0</th>\n",
              "      <td>1072</td>\n",
              "      <td>1.1</td>\n",
              "      <td>1250</td>\n",
              "      <td>70.983487</td>\n",
              "      <td>25.857127</td>\n",
              "      <td>0.931294</td>\n",
              "      <td>1455</td>\n",
              "      <td>0.577206</td>\n",
              "      <td>22.111250</td>\n",
              "      <td>5.307278</td>\n",
              "    </tr>\n",
              "    <tr>\n",
              "      <th>1</th>\n",
              "      <td>1072</td>\n",
              "      <td>1.1</td>\n",
              "      <td>1443</td>\n",
              "      <td>81.401395</td>\n",
              "      <td>23.973642</td>\n",
              "      <td>0.955648</td>\n",
              "      <td>1590</td>\n",
              "      <td>0.585364</td>\n",
              "      <td>25.525227</td>\n",
              "      <td>5.702299</td>\n",
              "    </tr>\n",
              "    <tr>\n",
              "      <th>2</th>\n",
              "      <td>1072</td>\n",
              "      <td>1.1</td>\n",
              "      <td>1059</td>\n",
              "      <td>73.434056</td>\n",
              "      <td>19.969412</td>\n",
              "      <td>0.962315</td>\n",
              "      <td>1230</td>\n",
              "      <td>0.543028</td>\n",
              "      <td>18.732651</td>\n",
              "      <td>4.885003</td>\n",
              "    </tr>\n",
              "    <tr>\n",
              "      <th>3</th>\n",
              "      <td>1072</td>\n",
              "      <td>1.1</td>\n",
              "      <td>1316</td>\n",
              "      <td>74.330825</td>\n",
              "      <td>23.940578</td>\n",
              "      <td>0.946712</td>\n",
              "      <td>1448</td>\n",
              "      <td>0.623279</td>\n",
              "      <td>23.278724</td>\n",
              "      <td>5.445588</td>\n",
              "    </tr>\n",
              "    <tr>\n",
              "      <th>4</th>\n",
              "      <td>1072</td>\n",
              "      <td>1.2</td>\n",
              "      <td>1147</td>\n",
              "      <td>72.392299</td>\n",
              "      <td>21.925036</td>\n",
              "      <td>0.953034</td>\n",
              "      <td>1295</td>\n",
              "      <td>0.598544</td>\n",
              "      <td>20.289283</td>\n",
              "      <td>5.083918</td>\n",
              "    </tr>\n",
              "    <tr>\n",
              "      <th>...</th>\n",
              "      <td>...</td>\n",
              "      <td>...</td>\n",
              "      <td>...</td>\n",
              "      <td>...</td>\n",
              "      <td>...</td>\n",
              "      <td>...</td>\n",
              "      <td>...</td>\n",
              "      <td>...</td>\n",
              "      <td>...</td>\n",
              "      <td>...</td>\n",
              "    </tr>\n",
              "    <tr>\n",
              "      <th>94</th>\n",
              "      <td>1073</td>\n",
              "      <td>5.2</td>\n",
              "      <td>2340</td>\n",
              "      <td>81.253326</td>\n",
              "      <td>37.714001</td>\n",
              "      <td>0.885755</td>\n",
              "      <td>2461</td>\n",
              "      <td>0.744971</td>\n",
              "      <td>25.798500</td>\n",
              "      <td>5.732742</td>\n",
              "    </tr>\n",
              "    <tr>\n",
              "      <th>95</th>\n",
              "      <td>1073</td>\n",
              "      <td>5.2</td>\n",
              "      <td>954</td>\n",
              "      <td>67.818956</td>\n",
              "      <td>19.176542</td>\n",
              "      <td>0.959190</td>\n",
              "      <td>1058</td>\n",
              "      <td>0.570776</td>\n",
              "      <td>10.517850</td>\n",
              "      <td>3.660401</td>\n",
              "    </tr>\n",
              "    <tr>\n",
              "      <th>96</th>\n",
              "      <td>1073</td>\n",
              "      <td>6.1</td>\n",
              "      <td>1386</td>\n",
              "      <td>75.533162</td>\n",
              "      <td>24.815085</td>\n",
              "      <td>0.944493</td>\n",
              "      <td>1535</td>\n",
              "      <td>0.626686</td>\n",
              "      <td>15.280650</td>\n",
              "      <td>4.412006</td>\n",
              "    </tr>\n",
              "    <tr>\n",
              "      <th>97</th>\n",
              "      <td>1073</td>\n",
              "      <td>6.1</td>\n",
              "      <td>1557</td>\n",
              "      <td>92.498928</td>\n",
              "      <td>23.829449</td>\n",
              "      <td>0.966247</td>\n",
              "      <td>1880</td>\n",
              "      <td>0.511981</td>\n",
              "      <td>17.165925</td>\n",
              "      <td>4.676261</td>\n",
              "    </tr>\n",
              "    <tr>\n",
              "      <th>98</th>\n",
              "      <td>1073</td>\n",
              "      <td>6.1</td>\n",
              "      <td>1451</td>\n",
              "      <td>84.912272</td>\n",
              "      <td>22.936527</td>\n",
              "      <td>0.962827</td>\n",
              "      <td>1607</td>\n",
              "      <td>0.574856</td>\n",
              "      <td>15.997275</td>\n",
              "      <td>4.514277</td>\n",
              "    </tr>\n",
              "  </tbody>\n",
              "</table>\n",
              "<p>99 rows × 10 columns</p>\n",
              "</div>\n",
              "    <div class=\"colab-df-buttons\">\n",
              "\n",
              "  <div class=\"colab-df-container\">\n",
              "    <button class=\"colab-df-convert\" onclick=\"convertToInteractive('df-4ce681f9-9c82-437e-b68a-c28eb914136d')\"\n",
              "            title=\"Convert this dataframe to an interactive table.\"\n",
              "            style=\"display:none;\">\n",
              "\n",
              "  <svg xmlns=\"http://www.w3.org/2000/svg\" height=\"24px\" viewBox=\"0 -960 960 960\">\n",
              "    <path d=\"M120-120v-720h720v720H120Zm60-500h600v-160H180v160Zm220 220h160v-160H400v160Zm0 220h160v-160H400v160ZM180-400h160v-160H180v160Zm440 0h160v-160H620v160ZM180-180h160v-160H180v160Zm440 0h160v-160H620v160Z\"/>\n",
              "  </svg>\n",
              "    </button>\n",
              "\n",
              "  <style>\n",
              "    .colab-df-container {\n",
              "      display:flex;\n",
              "      gap: 12px;\n",
              "    }\n",
              "\n",
              "    .colab-df-convert {\n",
              "      background-color: #E8F0FE;\n",
              "      border: none;\n",
              "      border-radius: 50%;\n",
              "      cursor: pointer;\n",
              "      display: none;\n",
              "      fill: #1967D2;\n",
              "      height: 32px;\n",
              "      padding: 0 0 0 0;\n",
              "      width: 32px;\n",
              "    }\n",
              "\n",
              "    .colab-df-convert:hover {\n",
              "      background-color: #E2EBFA;\n",
              "      box-shadow: 0px 1px 2px rgba(60, 64, 67, 0.3), 0px 1px 3px 1px rgba(60, 64, 67, 0.15);\n",
              "      fill: #174EA6;\n",
              "    }\n",
              "\n",
              "    .colab-df-buttons div {\n",
              "      margin-bottom: 4px;\n",
              "    }\n",
              "\n",
              "    [theme=dark] .colab-df-convert {\n",
              "      background-color: #3B4455;\n",
              "      fill: #D2E3FC;\n",
              "    }\n",
              "\n",
              "    [theme=dark] .colab-df-convert:hover {\n",
              "      background-color: #434B5C;\n",
              "      box-shadow: 0px 1px 3px 1px rgba(0, 0, 0, 0.15);\n",
              "      filter: drop-shadow(0px 1px 2px rgba(0, 0, 0, 0.3));\n",
              "      fill: #FFFFFF;\n",
              "    }\n",
              "  </style>\n",
              "\n",
              "    <script>\n",
              "      const buttonEl =\n",
              "        document.querySelector('#df-4ce681f9-9c82-437e-b68a-c28eb914136d button.colab-df-convert');\n",
              "      buttonEl.style.display =\n",
              "        google.colab.kernel.accessAllowed ? 'block' : 'none';\n",
              "\n",
              "      async function convertToInteractive(key) {\n",
              "        const element = document.querySelector('#df-4ce681f9-9c82-437e-b68a-c28eb914136d');\n",
              "        const dataTable =\n",
              "          await google.colab.kernel.invokeFunction('convertToInteractive',\n",
              "                                                    [key], {});\n",
              "        if (!dataTable) return;\n",
              "\n",
              "        const docLinkHtml = 'Like what you see? Visit the ' +\n",
              "          '<a target=\"_blank\" href=https://colab.research.google.com/notebooks/data_table.ipynb>data table notebook</a>'\n",
              "          + ' to learn more about interactive tables.';\n",
              "        element.innerHTML = '';\n",
              "        dataTable['output_type'] = 'display_data';\n",
              "        await google.colab.output.renderOutput(dataTable, element);\n",
              "        const docLink = document.createElement('div');\n",
              "        docLink.innerHTML = docLinkHtml;\n",
              "        element.appendChild(docLink);\n",
              "      }\n",
              "    </script>\n",
              "  </div>\n",
              "\n",
              "\n",
              "<div id=\"df-d71eb9c9-cec8-4c01-9973-d414986cde28\">\n",
              "  <button class=\"colab-df-quickchart\" onclick=\"quickchart('df-d71eb9c9-cec8-4c01-9973-d414986cde28')\"\n",
              "            title=\"Suggest charts\"\n",
              "            style=\"display:none;\">\n",
              "\n",
              "<svg xmlns=\"http://www.w3.org/2000/svg\" height=\"24px\"viewBox=\"0 0 24 24\"\n",
              "     width=\"24px\">\n",
              "    <g>\n",
              "        <path d=\"M19 3H5c-1.1 0-2 .9-2 2v14c0 1.1.9 2 2 2h14c1.1 0 2-.9 2-2V5c0-1.1-.9-2-2-2zM9 17H7v-7h2v7zm4 0h-2V7h2v10zm4 0h-2v-4h2v4z\"/>\n",
              "    </g>\n",
              "</svg>\n",
              "  </button>\n",
              "\n",
              "<style>\n",
              "  .colab-df-quickchart {\n",
              "      --bg-color: #E8F0FE;\n",
              "      --fill-color: #1967D2;\n",
              "      --hover-bg-color: #E2EBFA;\n",
              "      --hover-fill-color: #174EA6;\n",
              "      --disabled-fill-color: #AAA;\n",
              "      --disabled-bg-color: #DDD;\n",
              "  }\n",
              "\n",
              "  [theme=dark] .colab-df-quickchart {\n",
              "      --bg-color: #3B4455;\n",
              "      --fill-color: #D2E3FC;\n",
              "      --hover-bg-color: #434B5C;\n",
              "      --hover-fill-color: #FFFFFF;\n",
              "      --disabled-bg-color: #3B4455;\n",
              "      --disabled-fill-color: #666;\n",
              "  }\n",
              "\n",
              "  .colab-df-quickchart {\n",
              "    background-color: var(--bg-color);\n",
              "    border: none;\n",
              "    border-radius: 50%;\n",
              "    cursor: pointer;\n",
              "    display: none;\n",
              "    fill: var(--fill-color);\n",
              "    height: 32px;\n",
              "    padding: 0;\n",
              "    width: 32px;\n",
              "  }\n",
              "\n",
              "  .colab-df-quickchart:hover {\n",
              "    background-color: var(--hover-bg-color);\n",
              "    box-shadow: 0 1px 2px rgba(60, 64, 67, 0.3), 0 1px 3px 1px rgba(60, 64, 67, 0.15);\n",
              "    fill: var(--button-hover-fill-color);\n",
              "  }\n",
              "\n",
              "  .colab-df-quickchart-complete:disabled,\n",
              "  .colab-df-quickchart-complete:disabled:hover {\n",
              "    background-color: var(--disabled-bg-color);\n",
              "    fill: var(--disabled-fill-color);\n",
              "    box-shadow: none;\n",
              "  }\n",
              "\n",
              "  .colab-df-spinner {\n",
              "    border: 2px solid var(--fill-color);\n",
              "    border-color: transparent;\n",
              "    border-bottom-color: var(--fill-color);\n",
              "    animation:\n",
              "      spin 1s steps(1) infinite;\n",
              "  }\n",
              "\n",
              "  @keyframes spin {\n",
              "    0% {\n",
              "      border-color: transparent;\n",
              "      border-bottom-color: var(--fill-color);\n",
              "      border-left-color: var(--fill-color);\n",
              "    }\n",
              "    20% {\n",
              "      border-color: transparent;\n",
              "      border-left-color: var(--fill-color);\n",
              "      border-top-color: var(--fill-color);\n",
              "    }\n",
              "    30% {\n",
              "      border-color: transparent;\n",
              "      border-left-color: var(--fill-color);\n",
              "      border-top-color: var(--fill-color);\n",
              "      border-right-color: var(--fill-color);\n",
              "    }\n",
              "    40% {\n",
              "      border-color: transparent;\n",
              "      border-right-color: var(--fill-color);\n",
              "      border-top-color: var(--fill-color);\n",
              "    }\n",
              "    60% {\n",
              "      border-color: transparent;\n",
              "      border-right-color: var(--fill-color);\n",
              "    }\n",
              "    80% {\n",
              "      border-color: transparent;\n",
              "      border-right-color: var(--fill-color);\n",
              "      border-bottom-color: var(--fill-color);\n",
              "    }\n",
              "    90% {\n",
              "      border-color: transparent;\n",
              "      border-bottom-color: var(--fill-color);\n",
              "    }\n",
              "  }\n",
              "</style>\n",
              "\n",
              "  <script>\n",
              "    async function quickchart(key) {\n",
              "      const quickchartButtonEl =\n",
              "        document.querySelector('#' + key + ' button');\n",
              "      quickchartButtonEl.disabled = true;  // To prevent multiple clicks.\n",
              "      quickchartButtonEl.classList.add('colab-df-spinner');\n",
              "      try {\n",
              "        const charts = await google.colab.kernel.invokeFunction(\n",
              "            'suggestCharts', [key], {});\n",
              "      } catch (error) {\n",
              "        console.error('Error during call to suggestCharts:', error);\n",
              "      }\n",
              "      quickchartButtonEl.classList.remove('colab-df-spinner');\n",
              "      quickchartButtonEl.classList.add('colab-df-quickchart-complete');\n",
              "    }\n",
              "    (() => {\n",
              "      let quickchartButtonEl =\n",
              "        document.querySelector('#df-d71eb9c9-cec8-4c01-9973-d414986cde28 button');\n",
              "      quickchartButtonEl.style.display =\n",
              "        google.colab.kernel.accessAllowed ? 'block' : 'none';\n",
              "    })();\n",
              "  </script>\n",
              "</div>\n",
              "\n",
              "  <div id=\"id_505cac16-5ac4-4508-8dc8-02e5dd7d9e65\">\n",
              "    <style>\n",
              "      .colab-df-generate {\n",
              "        background-color: #E8F0FE;\n",
              "        border: none;\n",
              "        border-radius: 50%;\n",
              "        cursor: pointer;\n",
              "        display: none;\n",
              "        fill: #1967D2;\n",
              "        height: 32px;\n",
              "        padding: 0 0 0 0;\n",
              "        width: 32px;\n",
              "      }\n",
              "\n",
              "      .colab-df-generate:hover {\n",
              "        background-color: #E2EBFA;\n",
              "        box-shadow: 0px 1px 2px rgba(60, 64, 67, 0.3), 0px 1px 3px 1px rgba(60, 64, 67, 0.15);\n",
              "        fill: #174EA6;\n",
              "      }\n",
              "\n",
              "      [theme=dark] .colab-df-generate {\n",
              "        background-color: #3B4455;\n",
              "        fill: #D2E3FC;\n",
              "      }\n",
              "\n",
              "      [theme=dark] .colab-df-generate:hover {\n",
              "        background-color: #434B5C;\n",
              "        box-shadow: 0px 1px 3px 1px rgba(0, 0, 0, 0.15);\n",
              "        filter: drop-shadow(0px 1px 2px rgba(0, 0, 0, 0.3));\n",
              "        fill: #FFFFFF;\n",
              "      }\n",
              "    </style>\n",
              "    <button class=\"colab-df-generate\" onclick=\"generateWithVariable('data1')\"\n",
              "            title=\"Generate code using this dataframe.\"\n",
              "            style=\"display:none;\">\n",
              "\n",
              "  <svg xmlns=\"http://www.w3.org/2000/svg\" height=\"24px\"viewBox=\"0 0 24 24\"\n",
              "       width=\"24px\">\n",
              "    <path d=\"M7,19H8.4L18.45,9,17,7.55,7,17.6ZM5,21V16.75L18.45,3.32a2,2,0,0,1,2.83,0l1.4,1.43a1.91,1.91,0,0,1,.58,1.4,1.91,1.91,0,0,1-.58,1.4L9.25,21ZM18.45,9,17,7.55Zm-12,3A5.31,5.31,0,0,0,4.9,8.1,5.31,5.31,0,0,0,1,6.5,5.31,5.31,0,0,0,4.9,4.9,5.31,5.31,0,0,0,6.5,1,5.31,5.31,0,0,0,8.1,4.9,5.31,5.31,0,0,0,12,6.5,5.46,5.46,0,0,0,6.5,12Z\"/>\n",
              "  </svg>\n",
              "    </button>\n",
              "    <script>\n",
              "      (() => {\n",
              "      const buttonEl =\n",
              "        document.querySelector('#id_505cac16-5ac4-4508-8dc8-02e5dd7d9e65 button.colab-df-generate');\n",
              "      buttonEl.style.display =\n",
              "        google.colab.kernel.accessAllowed ? 'block' : 'none';\n",
              "\n",
              "      buttonEl.onclick = () => {\n",
              "        google.colab.notebook.generateWithVariable('data1');\n",
              "      }\n",
              "      })();\n",
              "    </script>\n",
              "  </div>\n",
              "\n",
              "    </div>\n",
              "  </div>\n"
            ],
            "application/vnd.google.colaboratory.intrinsic+json": {
              "type": "dataframe",
              "variable_name": "data1",
              "summary": "{\n  \"name\": \"data1\",\n  \"rows\": 99,\n  \"fields\": [\n    {\n      \"column\": \"Animal\",\n      \"properties\": {\n        \"dtype\": \"number\",\n        \"std\": 0,\n        \"min\": 1072,\n        \"max\": 1073,\n        \"num_unique_values\": 2,\n        \"samples\": [\n          1073,\n          1072\n        ],\n        \"semantic_type\": \"\",\n        \"description\": \"\"\n      }\n    },\n    {\n      \"column\": \"time\",\n      \"properties\": {\n        \"dtype\": \"number\",\n        \"std\": 1.9787481492856487,\n        \"min\": 1.1,\n        \"max\": 8.2,\n        \"num_unique_values\": 15,\n        \"samples\": [\n          5.2,\n          6.2\n        ],\n        \"semantic_type\": \"\",\n        \"description\": \"\"\n      }\n    },\n    {\n      \"column\": \"worngarea\",\n      \"properties\": {\n        \"dtype\": \"number\",\n        \"std\": 890,\n        \"min\": 557,\n        \"max\": 6098,\n        \"num_unique_values\": 98,\n        \"samples\": [\n          1337,\n          1203\n        ],\n        \"semantic_type\": \"\",\n        \"description\": \"\"\n      }\n    },\n    {\n      \"column\": \"majorl\",\n      \"properties\": {\n        \"dtype\": \"number\",\n        \"std\": 23.660234236319837,\n        \"min\": 46.28707615,\n        \"max\": 159.0496834,\n        \"num_unique_values\": 99,\n        \"samples\": [\n          71.60811967,\n          71.8515911\n        ],\n        \"semantic_type\": \"\",\n        \"description\": \"\"\n      }\n    },\n    {\n      \"column\": \"minl\",\n      \"properties\": {\n        \"dtype\": \"number\",\n        \"std\": 6.935793332985856,\n        \"min\": 14.8328496,\n        \"max\": 63.37325014,\n        \"num_unique_values\": 99,\n        \"samples\": [\n          24.93258709,\n          22.73165956\n        ],\n        \"semantic_type\": \"\",\n        \"description\": \"\"\n      }\n    },\n    {\n      \"column\": \"ecc\",\n      \"properties\": {\n        \"dtype\": \"number\",\n        \"std\": 0.022173971299556602,\n        \"min\": 0.845125153,\n        \"max\": 0.97799589,\n        \"num_unique_values\": 99,\n        \"samples\": [\n          0.937427324,\n          0.948636006\n        ],\n        \"semantic_type\": \"\",\n        \"description\": \"\"\n      }\n    },\n    {\n      \"column\": \"convex\",\n      \"properties\": {\n        \"dtype\": \"number\",\n        \"std\": 1069,\n        \"min\": 601,\n        \"max\": 6823,\n        \"num_unique_values\": 96,\n        \"samples\": [\n          1037,\n          981\n        ],\n        \"semantic_type\": \"\",\n        \"description\": \"\"\n      }\n    },\n    {\n      \"column\": \"circula\",\n      \"properties\": {\n        \"dtype\": \"number\",\n        \"std\": 0.08776724235440837,\n        \"min\": 0.393268934,\n        \"max\": 0.881832667,\n        \"num_unique_values\": 99,\n        \"samples\": [\n          0.657094826,\n          0.610788783\n        ],\n        \"semantic_type\": \"\",\n        \"description\": \"\"\n      }\n    },\n    {\n      \"column\": \"rightarea\",\n      \"properties\": {\n        \"dtype\": \"number\",\n        \"std\": 8.540738827456929,\n        \"min\": 9.852773,\n        \"max\": 67.23045,\n        \"num_unique_values\": 98,\n        \"samples\": [\n          23.650193,\n          13.263075\n        ],\n        \"semantic_type\": \"\",\n        \"description\": \"\"\n      }\n    },\n    {\n      \"column\": \"perimeter\",\n      \"properties\": {\n        \"dtype\": \"number\",\n        \"std\": 0.9249000613698657,\n        \"min\": 3.542781843,\n        \"max\": 9.254398163,\n        \"num_unique_values\": 98,\n        \"samples\": [\n          5.488864582,\n          4.110430262\n        ],\n        \"semantic_type\": \"\",\n        \"description\": \"\"\n      }\n    }\n  ]\n}"
            }
          },
          "metadata": {},
          "execution_count": 7
        }
      ],
      "source": [
        "data1"
      ]
    },
    {
      "cell_type": "code",
      "execution_count": 8,
      "metadata": {
        "id": "TBMzCjmL0ZGb"
      },
      "outputs": [],
      "source": [
        "data2 = pd.read_table('data.csv', delimiter=',')"
      ]
    },
    {
      "cell_type": "code",
      "execution_count": 9,
      "metadata": {
        "id": "leXw9E1B0ZGb",
        "outputId": "1373cc8c-7ff8-48a5-9ad5-668dec694777",
        "colab": {
          "base_uri": "https://localhost:8080/",
          "height": 423
        }
      },
      "outputs": [
        {
          "output_type": "execute_result",
          "data": {
            "text/plain": [
              "    Animal  time  worngarea     majorl       minl       ecc  convex   circula  \\\n",
              "0     1072   1.1       1250  70.983487  25.857127  0.931294    1455  0.577206   \n",
              "1     1072   1.1       1443  81.401395  23.973642  0.955648    1590  0.585364   \n",
              "2     1072   1.1       1059  73.434056  19.969412  0.962315    1230  0.543028   \n",
              "3     1072   1.1       1316  74.330825  23.940578  0.946712    1448  0.623279   \n",
              "4     1072   1.2       1147  72.392299  21.925036  0.953034    1295  0.598544   \n",
              "..     ...   ...        ...        ...        ...       ...     ...       ...   \n",
              "94    1073   5.2       2340  81.253326  37.714001  0.885755    2461  0.744971   \n",
              "95    1073   5.2        954  67.818956  19.176542  0.959190    1058  0.570776   \n",
              "96    1073   6.1       1386  75.533162  24.815085  0.944493    1535  0.626686   \n",
              "97    1073   6.1       1557  92.498928  23.829449  0.966247    1880  0.511981   \n",
              "98    1073   6.1       1451  84.912272  22.936527  0.962827    1607  0.574856   \n",
              "\n",
              "    rightarea  perimeter  \n",
              "0   22.111250   5.307278  \n",
              "1   25.525227   5.702299  \n",
              "2   18.732651   4.885003  \n",
              "3   23.278724   5.445588  \n",
              "4   20.289283   5.083918  \n",
              "..        ...        ...  \n",
              "94  25.798500   5.732742  \n",
              "95  10.517850   3.660401  \n",
              "96  15.280650   4.412006  \n",
              "97  17.165925   4.676261  \n",
              "98  15.997275   4.514277  \n",
              "\n",
              "[99 rows x 10 columns]"
            ],
            "text/html": [
              "\n",
              "  <div id=\"df-95c94484-bb76-4dcc-93a4-8f889acab066\" class=\"colab-df-container\">\n",
              "    <div>\n",
              "<style scoped>\n",
              "    .dataframe tbody tr th:only-of-type {\n",
              "        vertical-align: middle;\n",
              "    }\n",
              "\n",
              "    .dataframe tbody tr th {\n",
              "        vertical-align: top;\n",
              "    }\n",
              "\n",
              "    .dataframe thead th {\n",
              "        text-align: right;\n",
              "    }\n",
              "</style>\n",
              "<table border=\"1\" class=\"dataframe\">\n",
              "  <thead>\n",
              "    <tr style=\"text-align: right;\">\n",
              "      <th></th>\n",
              "      <th>Animal</th>\n",
              "      <th>time</th>\n",
              "      <th>worngarea</th>\n",
              "      <th>majorl</th>\n",
              "      <th>minl</th>\n",
              "      <th>ecc</th>\n",
              "      <th>convex</th>\n",
              "      <th>circula</th>\n",
              "      <th>rightarea</th>\n",
              "      <th>perimeter</th>\n",
              "    </tr>\n",
              "  </thead>\n",
              "  <tbody>\n",
              "    <tr>\n",
              "      <th>0</th>\n",
              "      <td>1072</td>\n",
              "      <td>1.1</td>\n",
              "      <td>1250</td>\n",
              "      <td>70.983487</td>\n",
              "      <td>25.857127</td>\n",
              "      <td>0.931294</td>\n",
              "      <td>1455</td>\n",
              "      <td>0.577206</td>\n",
              "      <td>22.111250</td>\n",
              "      <td>5.307278</td>\n",
              "    </tr>\n",
              "    <tr>\n",
              "      <th>1</th>\n",
              "      <td>1072</td>\n",
              "      <td>1.1</td>\n",
              "      <td>1443</td>\n",
              "      <td>81.401395</td>\n",
              "      <td>23.973642</td>\n",
              "      <td>0.955648</td>\n",
              "      <td>1590</td>\n",
              "      <td>0.585364</td>\n",
              "      <td>25.525227</td>\n",
              "      <td>5.702299</td>\n",
              "    </tr>\n",
              "    <tr>\n",
              "      <th>2</th>\n",
              "      <td>1072</td>\n",
              "      <td>1.1</td>\n",
              "      <td>1059</td>\n",
              "      <td>73.434056</td>\n",
              "      <td>19.969412</td>\n",
              "      <td>0.962315</td>\n",
              "      <td>1230</td>\n",
              "      <td>0.543028</td>\n",
              "      <td>18.732651</td>\n",
              "      <td>4.885003</td>\n",
              "    </tr>\n",
              "    <tr>\n",
              "      <th>3</th>\n",
              "      <td>1072</td>\n",
              "      <td>1.1</td>\n",
              "      <td>1316</td>\n",
              "      <td>74.330825</td>\n",
              "      <td>23.940578</td>\n",
              "      <td>0.946712</td>\n",
              "      <td>1448</td>\n",
              "      <td>0.623279</td>\n",
              "      <td>23.278724</td>\n",
              "      <td>5.445588</td>\n",
              "    </tr>\n",
              "    <tr>\n",
              "      <th>4</th>\n",
              "      <td>1072</td>\n",
              "      <td>1.2</td>\n",
              "      <td>1147</td>\n",
              "      <td>72.392299</td>\n",
              "      <td>21.925036</td>\n",
              "      <td>0.953034</td>\n",
              "      <td>1295</td>\n",
              "      <td>0.598544</td>\n",
              "      <td>20.289283</td>\n",
              "      <td>5.083918</td>\n",
              "    </tr>\n",
              "    <tr>\n",
              "      <th>...</th>\n",
              "      <td>...</td>\n",
              "      <td>...</td>\n",
              "      <td>...</td>\n",
              "      <td>...</td>\n",
              "      <td>...</td>\n",
              "      <td>...</td>\n",
              "      <td>...</td>\n",
              "      <td>...</td>\n",
              "      <td>...</td>\n",
              "      <td>...</td>\n",
              "    </tr>\n",
              "    <tr>\n",
              "      <th>94</th>\n",
              "      <td>1073</td>\n",
              "      <td>5.2</td>\n",
              "      <td>2340</td>\n",
              "      <td>81.253326</td>\n",
              "      <td>37.714001</td>\n",
              "      <td>0.885755</td>\n",
              "      <td>2461</td>\n",
              "      <td>0.744971</td>\n",
              "      <td>25.798500</td>\n",
              "      <td>5.732742</td>\n",
              "    </tr>\n",
              "    <tr>\n",
              "      <th>95</th>\n",
              "      <td>1073</td>\n",
              "      <td>5.2</td>\n",
              "      <td>954</td>\n",
              "      <td>67.818956</td>\n",
              "      <td>19.176542</td>\n",
              "      <td>0.959190</td>\n",
              "      <td>1058</td>\n",
              "      <td>0.570776</td>\n",
              "      <td>10.517850</td>\n",
              "      <td>3.660401</td>\n",
              "    </tr>\n",
              "    <tr>\n",
              "      <th>96</th>\n",
              "      <td>1073</td>\n",
              "      <td>6.1</td>\n",
              "      <td>1386</td>\n",
              "      <td>75.533162</td>\n",
              "      <td>24.815085</td>\n",
              "      <td>0.944493</td>\n",
              "      <td>1535</td>\n",
              "      <td>0.626686</td>\n",
              "      <td>15.280650</td>\n",
              "      <td>4.412006</td>\n",
              "    </tr>\n",
              "    <tr>\n",
              "      <th>97</th>\n",
              "      <td>1073</td>\n",
              "      <td>6.1</td>\n",
              "      <td>1557</td>\n",
              "      <td>92.498928</td>\n",
              "      <td>23.829449</td>\n",
              "      <td>0.966247</td>\n",
              "      <td>1880</td>\n",
              "      <td>0.511981</td>\n",
              "      <td>17.165925</td>\n",
              "      <td>4.676261</td>\n",
              "    </tr>\n",
              "    <tr>\n",
              "      <th>98</th>\n",
              "      <td>1073</td>\n",
              "      <td>6.1</td>\n",
              "      <td>1451</td>\n",
              "      <td>84.912272</td>\n",
              "      <td>22.936527</td>\n",
              "      <td>0.962827</td>\n",
              "      <td>1607</td>\n",
              "      <td>0.574856</td>\n",
              "      <td>15.997275</td>\n",
              "      <td>4.514277</td>\n",
              "    </tr>\n",
              "  </tbody>\n",
              "</table>\n",
              "<p>99 rows × 10 columns</p>\n",
              "</div>\n",
              "    <div class=\"colab-df-buttons\">\n",
              "\n",
              "  <div class=\"colab-df-container\">\n",
              "    <button class=\"colab-df-convert\" onclick=\"convertToInteractive('df-95c94484-bb76-4dcc-93a4-8f889acab066')\"\n",
              "            title=\"Convert this dataframe to an interactive table.\"\n",
              "            style=\"display:none;\">\n",
              "\n",
              "  <svg xmlns=\"http://www.w3.org/2000/svg\" height=\"24px\" viewBox=\"0 -960 960 960\">\n",
              "    <path d=\"M120-120v-720h720v720H120Zm60-500h600v-160H180v160Zm220 220h160v-160H400v160Zm0 220h160v-160H400v160ZM180-400h160v-160H180v160Zm440 0h160v-160H620v160ZM180-180h160v-160H180v160Zm440 0h160v-160H620v160Z\"/>\n",
              "  </svg>\n",
              "    </button>\n",
              "\n",
              "  <style>\n",
              "    .colab-df-container {\n",
              "      display:flex;\n",
              "      gap: 12px;\n",
              "    }\n",
              "\n",
              "    .colab-df-convert {\n",
              "      background-color: #E8F0FE;\n",
              "      border: none;\n",
              "      border-radius: 50%;\n",
              "      cursor: pointer;\n",
              "      display: none;\n",
              "      fill: #1967D2;\n",
              "      height: 32px;\n",
              "      padding: 0 0 0 0;\n",
              "      width: 32px;\n",
              "    }\n",
              "\n",
              "    .colab-df-convert:hover {\n",
              "      background-color: #E2EBFA;\n",
              "      box-shadow: 0px 1px 2px rgba(60, 64, 67, 0.3), 0px 1px 3px 1px rgba(60, 64, 67, 0.15);\n",
              "      fill: #174EA6;\n",
              "    }\n",
              "\n",
              "    .colab-df-buttons div {\n",
              "      margin-bottom: 4px;\n",
              "    }\n",
              "\n",
              "    [theme=dark] .colab-df-convert {\n",
              "      background-color: #3B4455;\n",
              "      fill: #D2E3FC;\n",
              "    }\n",
              "\n",
              "    [theme=dark] .colab-df-convert:hover {\n",
              "      background-color: #434B5C;\n",
              "      box-shadow: 0px 1px 3px 1px rgba(0, 0, 0, 0.15);\n",
              "      filter: drop-shadow(0px 1px 2px rgba(0, 0, 0, 0.3));\n",
              "      fill: #FFFFFF;\n",
              "    }\n",
              "  </style>\n",
              "\n",
              "    <script>\n",
              "      const buttonEl =\n",
              "        document.querySelector('#df-95c94484-bb76-4dcc-93a4-8f889acab066 button.colab-df-convert');\n",
              "      buttonEl.style.display =\n",
              "        google.colab.kernel.accessAllowed ? 'block' : 'none';\n",
              "\n",
              "      async function convertToInteractive(key) {\n",
              "        const element = document.querySelector('#df-95c94484-bb76-4dcc-93a4-8f889acab066');\n",
              "        const dataTable =\n",
              "          await google.colab.kernel.invokeFunction('convertToInteractive',\n",
              "                                                    [key], {});\n",
              "        if (!dataTable) return;\n",
              "\n",
              "        const docLinkHtml = 'Like what you see? Visit the ' +\n",
              "          '<a target=\"_blank\" href=https://colab.research.google.com/notebooks/data_table.ipynb>data table notebook</a>'\n",
              "          + ' to learn more about interactive tables.';\n",
              "        element.innerHTML = '';\n",
              "        dataTable['output_type'] = 'display_data';\n",
              "        await google.colab.output.renderOutput(dataTable, element);\n",
              "        const docLink = document.createElement('div');\n",
              "        docLink.innerHTML = docLinkHtml;\n",
              "        element.appendChild(docLink);\n",
              "      }\n",
              "    </script>\n",
              "  </div>\n",
              "\n",
              "\n",
              "<div id=\"df-bd00e00a-b345-4acf-b967-a07a1d1e0bfe\">\n",
              "  <button class=\"colab-df-quickchart\" onclick=\"quickchart('df-bd00e00a-b345-4acf-b967-a07a1d1e0bfe')\"\n",
              "            title=\"Suggest charts\"\n",
              "            style=\"display:none;\">\n",
              "\n",
              "<svg xmlns=\"http://www.w3.org/2000/svg\" height=\"24px\"viewBox=\"0 0 24 24\"\n",
              "     width=\"24px\">\n",
              "    <g>\n",
              "        <path d=\"M19 3H5c-1.1 0-2 .9-2 2v14c0 1.1.9 2 2 2h14c1.1 0 2-.9 2-2V5c0-1.1-.9-2-2-2zM9 17H7v-7h2v7zm4 0h-2V7h2v10zm4 0h-2v-4h2v4z\"/>\n",
              "    </g>\n",
              "</svg>\n",
              "  </button>\n",
              "\n",
              "<style>\n",
              "  .colab-df-quickchart {\n",
              "      --bg-color: #E8F0FE;\n",
              "      --fill-color: #1967D2;\n",
              "      --hover-bg-color: #E2EBFA;\n",
              "      --hover-fill-color: #174EA6;\n",
              "      --disabled-fill-color: #AAA;\n",
              "      --disabled-bg-color: #DDD;\n",
              "  }\n",
              "\n",
              "  [theme=dark] .colab-df-quickchart {\n",
              "      --bg-color: #3B4455;\n",
              "      --fill-color: #D2E3FC;\n",
              "      --hover-bg-color: #434B5C;\n",
              "      --hover-fill-color: #FFFFFF;\n",
              "      --disabled-bg-color: #3B4455;\n",
              "      --disabled-fill-color: #666;\n",
              "  }\n",
              "\n",
              "  .colab-df-quickchart {\n",
              "    background-color: var(--bg-color);\n",
              "    border: none;\n",
              "    border-radius: 50%;\n",
              "    cursor: pointer;\n",
              "    display: none;\n",
              "    fill: var(--fill-color);\n",
              "    height: 32px;\n",
              "    padding: 0;\n",
              "    width: 32px;\n",
              "  }\n",
              "\n",
              "  .colab-df-quickchart:hover {\n",
              "    background-color: var(--hover-bg-color);\n",
              "    box-shadow: 0 1px 2px rgba(60, 64, 67, 0.3), 0 1px 3px 1px rgba(60, 64, 67, 0.15);\n",
              "    fill: var(--button-hover-fill-color);\n",
              "  }\n",
              "\n",
              "  .colab-df-quickchart-complete:disabled,\n",
              "  .colab-df-quickchart-complete:disabled:hover {\n",
              "    background-color: var(--disabled-bg-color);\n",
              "    fill: var(--disabled-fill-color);\n",
              "    box-shadow: none;\n",
              "  }\n",
              "\n",
              "  .colab-df-spinner {\n",
              "    border: 2px solid var(--fill-color);\n",
              "    border-color: transparent;\n",
              "    border-bottom-color: var(--fill-color);\n",
              "    animation:\n",
              "      spin 1s steps(1) infinite;\n",
              "  }\n",
              "\n",
              "  @keyframes spin {\n",
              "    0% {\n",
              "      border-color: transparent;\n",
              "      border-bottom-color: var(--fill-color);\n",
              "      border-left-color: var(--fill-color);\n",
              "    }\n",
              "    20% {\n",
              "      border-color: transparent;\n",
              "      border-left-color: var(--fill-color);\n",
              "      border-top-color: var(--fill-color);\n",
              "    }\n",
              "    30% {\n",
              "      border-color: transparent;\n",
              "      border-left-color: var(--fill-color);\n",
              "      border-top-color: var(--fill-color);\n",
              "      border-right-color: var(--fill-color);\n",
              "    }\n",
              "    40% {\n",
              "      border-color: transparent;\n",
              "      border-right-color: var(--fill-color);\n",
              "      border-top-color: var(--fill-color);\n",
              "    }\n",
              "    60% {\n",
              "      border-color: transparent;\n",
              "      border-right-color: var(--fill-color);\n",
              "    }\n",
              "    80% {\n",
              "      border-color: transparent;\n",
              "      border-right-color: var(--fill-color);\n",
              "      border-bottom-color: var(--fill-color);\n",
              "    }\n",
              "    90% {\n",
              "      border-color: transparent;\n",
              "      border-bottom-color: var(--fill-color);\n",
              "    }\n",
              "  }\n",
              "</style>\n",
              "\n",
              "  <script>\n",
              "    async function quickchart(key) {\n",
              "      const quickchartButtonEl =\n",
              "        document.querySelector('#' + key + ' button');\n",
              "      quickchartButtonEl.disabled = true;  // To prevent multiple clicks.\n",
              "      quickchartButtonEl.classList.add('colab-df-spinner');\n",
              "      try {\n",
              "        const charts = await google.colab.kernel.invokeFunction(\n",
              "            'suggestCharts', [key], {});\n",
              "      } catch (error) {\n",
              "        console.error('Error during call to suggestCharts:', error);\n",
              "      }\n",
              "      quickchartButtonEl.classList.remove('colab-df-spinner');\n",
              "      quickchartButtonEl.classList.add('colab-df-quickchart-complete');\n",
              "    }\n",
              "    (() => {\n",
              "      let quickchartButtonEl =\n",
              "        document.querySelector('#df-bd00e00a-b345-4acf-b967-a07a1d1e0bfe button');\n",
              "      quickchartButtonEl.style.display =\n",
              "        google.colab.kernel.accessAllowed ? 'block' : 'none';\n",
              "    })();\n",
              "  </script>\n",
              "</div>\n",
              "\n",
              "  <div id=\"id_c68680fc-17e8-454e-ba42-e9ab74d0657b\">\n",
              "    <style>\n",
              "      .colab-df-generate {\n",
              "        background-color: #E8F0FE;\n",
              "        border: none;\n",
              "        border-radius: 50%;\n",
              "        cursor: pointer;\n",
              "        display: none;\n",
              "        fill: #1967D2;\n",
              "        height: 32px;\n",
              "        padding: 0 0 0 0;\n",
              "        width: 32px;\n",
              "      }\n",
              "\n",
              "      .colab-df-generate:hover {\n",
              "        background-color: #E2EBFA;\n",
              "        box-shadow: 0px 1px 2px rgba(60, 64, 67, 0.3), 0px 1px 3px 1px rgba(60, 64, 67, 0.15);\n",
              "        fill: #174EA6;\n",
              "      }\n",
              "\n",
              "      [theme=dark] .colab-df-generate {\n",
              "        background-color: #3B4455;\n",
              "        fill: #D2E3FC;\n",
              "      }\n",
              "\n",
              "      [theme=dark] .colab-df-generate:hover {\n",
              "        background-color: #434B5C;\n",
              "        box-shadow: 0px 1px 3px 1px rgba(0, 0, 0, 0.15);\n",
              "        filter: drop-shadow(0px 1px 2px rgba(0, 0, 0, 0.3));\n",
              "        fill: #FFFFFF;\n",
              "      }\n",
              "    </style>\n",
              "    <button class=\"colab-df-generate\" onclick=\"generateWithVariable('data2')\"\n",
              "            title=\"Generate code using this dataframe.\"\n",
              "            style=\"display:none;\">\n",
              "\n",
              "  <svg xmlns=\"http://www.w3.org/2000/svg\" height=\"24px\"viewBox=\"0 0 24 24\"\n",
              "       width=\"24px\">\n",
              "    <path d=\"M7,19H8.4L18.45,9,17,7.55,7,17.6ZM5,21V16.75L18.45,3.32a2,2,0,0,1,2.83,0l1.4,1.43a1.91,1.91,0,0,1,.58,1.4,1.91,1.91,0,0,1-.58,1.4L9.25,21ZM18.45,9,17,7.55Zm-12,3A5.31,5.31,0,0,0,4.9,8.1,5.31,5.31,0,0,0,1,6.5,5.31,5.31,0,0,0,4.9,4.9,5.31,5.31,0,0,0,6.5,1,5.31,5.31,0,0,0,8.1,4.9,5.31,5.31,0,0,0,12,6.5,5.46,5.46,0,0,0,6.5,12Z\"/>\n",
              "  </svg>\n",
              "    </button>\n",
              "    <script>\n",
              "      (() => {\n",
              "      const buttonEl =\n",
              "        document.querySelector('#id_c68680fc-17e8-454e-ba42-e9ab74d0657b button.colab-df-generate');\n",
              "      buttonEl.style.display =\n",
              "        google.colab.kernel.accessAllowed ? 'block' : 'none';\n",
              "\n",
              "      buttonEl.onclick = () => {\n",
              "        google.colab.notebook.generateWithVariable('data2');\n",
              "      }\n",
              "      })();\n",
              "    </script>\n",
              "  </div>\n",
              "\n",
              "    </div>\n",
              "  </div>\n"
            ],
            "application/vnd.google.colaboratory.intrinsic+json": {
              "type": "dataframe",
              "variable_name": "data2",
              "summary": "{\n  \"name\": \"data2\",\n  \"rows\": 99,\n  \"fields\": [\n    {\n      \"column\": \"Animal\",\n      \"properties\": {\n        \"dtype\": \"number\",\n        \"std\": 0,\n        \"min\": 1072,\n        \"max\": 1073,\n        \"num_unique_values\": 2,\n        \"samples\": [\n          1073,\n          1072\n        ],\n        \"semantic_type\": \"\",\n        \"description\": \"\"\n      }\n    },\n    {\n      \"column\": \"time\",\n      \"properties\": {\n        \"dtype\": \"number\",\n        \"std\": 1.9787481492856487,\n        \"min\": 1.1,\n        \"max\": 8.2,\n        \"num_unique_values\": 15,\n        \"samples\": [\n          5.2,\n          6.2\n        ],\n        \"semantic_type\": \"\",\n        \"description\": \"\"\n      }\n    },\n    {\n      \"column\": \"worngarea\",\n      \"properties\": {\n        \"dtype\": \"number\",\n        \"std\": 890,\n        \"min\": 557,\n        \"max\": 6098,\n        \"num_unique_values\": 98,\n        \"samples\": [\n          1337,\n          1203\n        ],\n        \"semantic_type\": \"\",\n        \"description\": \"\"\n      }\n    },\n    {\n      \"column\": \"majorl\",\n      \"properties\": {\n        \"dtype\": \"number\",\n        \"std\": 23.660234236319837,\n        \"min\": 46.28707615,\n        \"max\": 159.0496834,\n        \"num_unique_values\": 99,\n        \"samples\": [\n          71.60811967,\n          71.8515911\n        ],\n        \"semantic_type\": \"\",\n        \"description\": \"\"\n      }\n    },\n    {\n      \"column\": \"minl\",\n      \"properties\": {\n        \"dtype\": \"number\",\n        \"std\": 6.935793332985856,\n        \"min\": 14.8328496,\n        \"max\": 63.37325014,\n        \"num_unique_values\": 99,\n        \"samples\": [\n          24.93258709,\n          22.73165956\n        ],\n        \"semantic_type\": \"\",\n        \"description\": \"\"\n      }\n    },\n    {\n      \"column\": \"ecc\",\n      \"properties\": {\n        \"dtype\": \"number\",\n        \"std\": 0.022173971299556602,\n        \"min\": 0.845125153,\n        \"max\": 0.97799589,\n        \"num_unique_values\": 99,\n        \"samples\": [\n          0.937427324,\n          0.948636006\n        ],\n        \"semantic_type\": \"\",\n        \"description\": \"\"\n      }\n    },\n    {\n      \"column\": \"convex\",\n      \"properties\": {\n        \"dtype\": \"number\",\n        \"std\": 1069,\n        \"min\": 601,\n        \"max\": 6823,\n        \"num_unique_values\": 96,\n        \"samples\": [\n          1037,\n          981\n        ],\n        \"semantic_type\": \"\",\n        \"description\": \"\"\n      }\n    },\n    {\n      \"column\": \"circula\",\n      \"properties\": {\n        \"dtype\": \"number\",\n        \"std\": 0.08776724235440837,\n        \"min\": 0.393268934,\n        \"max\": 0.881832667,\n        \"num_unique_values\": 99,\n        \"samples\": [\n          0.657094826,\n          0.610788783\n        ],\n        \"semantic_type\": \"\",\n        \"description\": \"\"\n      }\n    },\n    {\n      \"column\": \"rightarea\",\n      \"properties\": {\n        \"dtype\": \"number\",\n        \"std\": 8.540738827456929,\n        \"min\": 9.852773,\n        \"max\": 67.23045,\n        \"num_unique_values\": 98,\n        \"samples\": [\n          23.650193,\n          13.263075\n        ],\n        \"semantic_type\": \"\",\n        \"description\": \"\"\n      }\n    },\n    {\n      \"column\": \"perimeter\",\n      \"properties\": {\n        \"dtype\": \"number\",\n        \"std\": 0.9249000613698657,\n        \"min\": 3.542781843,\n        \"max\": 9.254398163,\n        \"num_unique_values\": 98,\n        \"samples\": [\n          5.488864582,\n          4.110430262\n        ],\n        \"semantic_type\": \"\",\n        \"description\": \"\"\n      }\n    }\n  ]\n}"
            }
          },
          "metadata": {},
          "execution_count": 9
        }
      ],
      "source": [
        "data2"
      ]
    },
    {
      "cell_type": "markdown",
      "metadata": {
        "id": "ggbGcBvc0ZGb"
      },
      "source": [
        "## 5.2 Write"
      ]
    },
    {
      "cell_type": "code",
      "execution_count": null,
      "metadata": {
        "id": "gwEdwa570ZGb"
      },
      "outputs": [],
      "source": [
        "data1.to_csv('dataNew.csv', sep=',', header = True, index = False)"
      ]
    },
    {
      "cell_type": "code",
      "execution_count": null,
      "metadata": {
        "id": "2B20nJlY0ZGb"
      },
      "outputs": [],
      "source": [
        "os.listdir('.') # list files"
      ]
    },
    {
      "cell_type": "code",
      "execution_count": null,
      "metadata": {
        "id": "y_pAUM6E0ZGc"
      },
      "outputs": [],
      "source": [
        "data1.to_csv('dataNew.txt', sep=' ', header = True, index = False)"
      ]
    },
    {
      "cell_type": "code",
      "execution_count": null,
      "metadata": {
        "id": "QuoThmMN0ZGc"
      },
      "outputs": [],
      "source": [
        "os.listdir('.') # list files"
      ]
    }
  ],
  "metadata": {
    "kernelspec": {
      "display_name": "Python 3 (ipykernel)",
      "language": "python",
      "name": "python3"
    },
    "language_info": {
      "codemirror_mode": {
        "name": "ipython",
        "version": 3
      },
      "file_extension": ".py",
      "mimetype": "text/x-python",
      "name": "python",
      "nbconvert_exporter": "python",
      "pygments_lexer": "ipython3",
      "version": "3.9.7"
    },
    "colab": {
      "provenance": [],
      "include_colab_link": true
    }
  },
  "nbformat": 4,
  "nbformat_minor": 0
}