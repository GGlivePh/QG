{
  "cells": [
    {
      "cell_type": "markdown",
      "metadata": {
        "id": "view-in-github",
        "colab_type": "text"
      },
      "source": [
        "<a href=\"https://colab.research.google.com/github/GGlivePh/QG/blob/main/Lab03.ipynb\" target=\"_parent\"><img src=\"https://colab.research.google.com/assets/colab-badge.svg\" alt=\"Open In Colab\"/></a>"
      ]
    },
    {
      "cell_type": "code",
      "source": [
        "!git clone https://github.com/GGlivePh/QG.git"
      ],
      "metadata": {
        "id": "aPQOWWbv76GO",
        "outputId": "17da234e-f998-4395-8d99-f636947aff80",
        "colab": {
          "base_uri": "https://localhost:8080/"
        }
      },
      "id": "aPQOWWbv76GO",
      "execution_count": 1,
      "outputs": [
        {
          "output_type": "stream",
          "name": "stdout",
          "text": [
            "Cloning into 'QG'...\n",
            "remote: Enumerating objects: 64, done.\u001b[K\n",
            "remote: Counting objects: 100% (64/64), done.\u001b[K\n",
            "remote: Compressing objects: 100% (64/64), done.\u001b[K\n",
            "remote: Total 64 (delta 27), reused 0 (delta 0), pack-reused 0 (from 0)\u001b[K\n",
            "Receiving objects: 100% (64/64), 150.10 KiB | 1.10 MiB/s, done.\n",
            "Resolving deltas: 100% (27/27), done.\n"
          ]
        }
      ]
    },
    {
      "cell_type": "code",
      "source": [
        "import os\n",
        "os.chdir('QG')"
      ],
      "metadata": {
        "id": "IaAt3oCT76_0"
      },
      "id": "IaAt3oCT76_0",
      "execution_count": 2,
      "outputs": []
    },
    {
      "cell_type": "markdown",
      "metadata": {
        "id": "kOs_Hh8c73Yy"
      },
      "source": [
        "# <center> Advanced Digital Agriculture (DS/AS 875) <center> Module 01 - Data Analysis (Lab 03)\n",
        "***\n",
        "# Table of Contents\n",
        "* [READING THE DATASET INTO PYTHON](#READING-THE-DATASET-INTO-PYTHON)\n",
        "* [DATA EDITING](#DATA-EDITING)\n",
        "    * [Creating dummy variables (One-Hot Encode)](#Creating-dummy-variables-(One-Hot-Encode))\n",
        "    * [Creating training and testing datasets](#Creating-training-and-testing-datasets)\n",
        "* [NEURAL NETWORK](#NEURAL-NETWORK)\n",
        "    * [Data pre-processing](#Data-pre-processing)\n",
        "    * [Training (GridSearch)](#Training-(GridSearch))\n",
        "    * [Testing](#Testing)\n",
        "***"
      ],
      "id": "kOs_Hh8c73Yy"
    },
    {
      "cell_type": "markdown",
      "metadata": {
        "id": "1cEdF48k73Y3"
      },
      "source": [
        "## READING THE DATASET INTO PYTHON"
      ],
      "id": "1cEdF48k73Y3"
    },
    {
      "cell_type": "code",
      "execution_count": 3,
      "metadata": {
        "id": "-P8Cy6aY73Y3",
        "outputId": "8207ad9c-a53b-4b18-b1a1-40d0118adbc5",
        "colab": {
          "base_uri": "https://localhost:8080/",
          "height": 423
        }
      },
      "outputs": [
        {
          "output_type": "execute_result",
          "data": {
            "text/plain": [
              "        ID  season  lact  calvingEase  lameness  mastitis  \\\n",
              "0      129       1     5            1         0         2   \n",
              "1      209       1     4            1         0         1   \n",
              "2      267       1     5            1         0         2   \n",
              "3      299       1     7            1         2         0   \n",
              "4      341       1     6            2         0         1   \n",
              "..     ...     ...   ...          ...       ...       ...   \n",
              "395  11625       1     1            2         2         0   \n",
              "396  11697       1     1            1         3         0   \n",
              "397  11765       1     1            1         3         0   \n",
              "398  11824       1     1            1         0         0   \n",
              "399  11863       1     1            2         0         0   \n",
              "\n",
              "                   reason       lactStage    305ME  price    BW  \n",
              "0    7-Mastitis and Udder   Mid Lactation  14841.5   53.5  1785  \n",
              "1        3-Low production  Late Lactation  14909.6   66.0  1835  \n",
              "2        3-Low production  Late Lactation  12764.1   54.0  1965  \n",
              "3        3-Low production   Mid Lactation  10645.8   43.5  1785  \n",
              "4        3-Low production   Mid Lactation  10704.8   47.0  1640  \n",
              "..                    ...             ...      ...    ...   ...  \n",
              "395      3-Low production  Late Lactation  10146.9   48.5  1255  \n",
              "396      3-Low production  Late Lactation   8568.4   52.5  1380  \n",
              "397      3-Low production  Late Lactation   4948.7   54.5  1475  \n",
              "398      3-Low production   Mid Lactation   7452.5   42.0  1195  \n",
              "399      3-Low production   Mid Lactation   7026.2   54.0  1355  \n",
              "\n",
              "[400 rows x 11 columns]"
            ],
            "text/html": [
              "\n",
              "  <div id=\"df-4c696273-3ab7-4af2-90eb-665c4e798592\" class=\"colab-df-container\">\n",
              "    <div>\n",
              "<style scoped>\n",
              "    .dataframe tbody tr th:only-of-type {\n",
              "        vertical-align: middle;\n",
              "    }\n",
              "\n",
              "    .dataframe tbody tr th {\n",
              "        vertical-align: top;\n",
              "    }\n",
              "\n",
              "    .dataframe thead th {\n",
              "        text-align: right;\n",
              "    }\n",
              "</style>\n",
              "<table border=\"1\" class=\"dataframe\">\n",
              "  <thead>\n",
              "    <tr style=\"text-align: right;\">\n",
              "      <th></th>\n",
              "      <th>ID</th>\n",
              "      <th>season</th>\n",
              "      <th>lact</th>\n",
              "      <th>calvingEase</th>\n",
              "      <th>lameness</th>\n",
              "      <th>mastitis</th>\n",
              "      <th>reason</th>\n",
              "      <th>lactStage</th>\n",
              "      <th>305ME</th>\n",
              "      <th>price</th>\n",
              "      <th>BW</th>\n",
              "    </tr>\n",
              "  </thead>\n",
              "  <tbody>\n",
              "    <tr>\n",
              "      <th>0</th>\n",
              "      <td>129</td>\n",
              "      <td>1</td>\n",
              "      <td>5</td>\n",
              "      <td>1</td>\n",
              "      <td>0</td>\n",
              "      <td>2</td>\n",
              "      <td>7-Mastitis and Udder</td>\n",
              "      <td>Mid Lactation</td>\n",
              "      <td>14841.5</td>\n",
              "      <td>53.5</td>\n",
              "      <td>1785</td>\n",
              "    </tr>\n",
              "    <tr>\n",
              "      <th>1</th>\n",
              "      <td>209</td>\n",
              "      <td>1</td>\n",
              "      <td>4</td>\n",
              "      <td>1</td>\n",
              "      <td>0</td>\n",
              "      <td>1</td>\n",
              "      <td>3-Low production</td>\n",
              "      <td>Late Lactation</td>\n",
              "      <td>14909.6</td>\n",
              "      <td>66.0</td>\n",
              "      <td>1835</td>\n",
              "    </tr>\n",
              "    <tr>\n",
              "      <th>2</th>\n",
              "      <td>267</td>\n",
              "      <td>1</td>\n",
              "      <td>5</td>\n",
              "      <td>1</td>\n",
              "      <td>0</td>\n",
              "      <td>2</td>\n",
              "      <td>3-Low production</td>\n",
              "      <td>Late Lactation</td>\n",
              "      <td>12764.1</td>\n",
              "      <td>54.0</td>\n",
              "      <td>1965</td>\n",
              "    </tr>\n",
              "    <tr>\n",
              "      <th>3</th>\n",
              "      <td>299</td>\n",
              "      <td>1</td>\n",
              "      <td>7</td>\n",
              "      <td>1</td>\n",
              "      <td>2</td>\n",
              "      <td>0</td>\n",
              "      <td>3-Low production</td>\n",
              "      <td>Mid Lactation</td>\n",
              "      <td>10645.8</td>\n",
              "      <td>43.5</td>\n",
              "      <td>1785</td>\n",
              "    </tr>\n",
              "    <tr>\n",
              "      <th>4</th>\n",
              "      <td>341</td>\n",
              "      <td>1</td>\n",
              "      <td>6</td>\n",
              "      <td>2</td>\n",
              "      <td>0</td>\n",
              "      <td>1</td>\n",
              "      <td>3-Low production</td>\n",
              "      <td>Mid Lactation</td>\n",
              "      <td>10704.8</td>\n",
              "      <td>47.0</td>\n",
              "      <td>1640</td>\n",
              "    </tr>\n",
              "    <tr>\n",
              "      <th>...</th>\n",
              "      <td>...</td>\n",
              "      <td>...</td>\n",
              "      <td>...</td>\n",
              "      <td>...</td>\n",
              "      <td>...</td>\n",
              "      <td>...</td>\n",
              "      <td>...</td>\n",
              "      <td>...</td>\n",
              "      <td>...</td>\n",
              "      <td>...</td>\n",
              "      <td>...</td>\n",
              "    </tr>\n",
              "    <tr>\n",
              "      <th>395</th>\n",
              "      <td>11625</td>\n",
              "      <td>1</td>\n",
              "      <td>1</td>\n",
              "      <td>2</td>\n",
              "      <td>2</td>\n",
              "      <td>0</td>\n",
              "      <td>3-Low production</td>\n",
              "      <td>Late Lactation</td>\n",
              "      <td>10146.9</td>\n",
              "      <td>48.5</td>\n",
              "      <td>1255</td>\n",
              "    </tr>\n",
              "    <tr>\n",
              "      <th>396</th>\n",
              "      <td>11697</td>\n",
              "      <td>1</td>\n",
              "      <td>1</td>\n",
              "      <td>1</td>\n",
              "      <td>3</td>\n",
              "      <td>0</td>\n",
              "      <td>3-Low production</td>\n",
              "      <td>Late Lactation</td>\n",
              "      <td>8568.4</td>\n",
              "      <td>52.5</td>\n",
              "      <td>1380</td>\n",
              "    </tr>\n",
              "    <tr>\n",
              "      <th>397</th>\n",
              "      <td>11765</td>\n",
              "      <td>1</td>\n",
              "      <td>1</td>\n",
              "      <td>1</td>\n",
              "      <td>3</td>\n",
              "      <td>0</td>\n",
              "      <td>3-Low production</td>\n",
              "      <td>Late Lactation</td>\n",
              "      <td>4948.7</td>\n",
              "      <td>54.5</td>\n",
              "      <td>1475</td>\n",
              "    </tr>\n",
              "    <tr>\n",
              "      <th>398</th>\n",
              "      <td>11824</td>\n",
              "      <td>1</td>\n",
              "      <td>1</td>\n",
              "      <td>1</td>\n",
              "      <td>0</td>\n",
              "      <td>0</td>\n",
              "      <td>3-Low production</td>\n",
              "      <td>Mid Lactation</td>\n",
              "      <td>7452.5</td>\n",
              "      <td>42.0</td>\n",
              "      <td>1195</td>\n",
              "    </tr>\n",
              "    <tr>\n",
              "      <th>399</th>\n",
              "      <td>11863</td>\n",
              "      <td>1</td>\n",
              "      <td>1</td>\n",
              "      <td>2</td>\n",
              "      <td>0</td>\n",
              "      <td>0</td>\n",
              "      <td>3-Low production</td>\n",
              "      <td>Mid Lactation</td>\n",
              "      <td>7026.2</td>\n",
              "      <td>54.0</td>\n",
              "      <td>1355</td>\n",
              "    </tr>\n",
              "  </tbody>\n",
              "</table>\n",
              "<p>400 rows × 11 columns</p>\n",
              "</div>\n",
              "    <div class=\"colab-df-buttons\">\n",
              "\n",
              "  <div class=\"colab-df-container\">\n",
              "    <button class=\"colab-df-convert\" onclick=\"convertToInteractive('df-4c696273-3ab7-4af2-90eb-665c4e798592')\"\n",
              "            title=\"Convert this dataframe to an interactive table.\"\n",
              "            style=\"display:none;\">\n",
              "\n",
              "  <svg xmlns=\"http://www.w3.org/2000/svg\" height=\"24px\" viewBox=\"0 -960 960 960\">\n",
              "    <path d=\"M120-120v-720h720v720H120Zm60-500h600v-160H180v160Zm220 220h160v-160H400v160Zm0 220h160v-160H400v160ZM180-400h160v-160H180v160Zm440 0h160v-160H620v160ZM180-180h160v-160H180v160Zm440 0h160v-160H620v160Z\"/>\n",
              "  </svg>\n",
              "    </button>\n",
              "\n",
              "  <style>\n",
              "    .colab-df-container {\n",
              "      display:flex;\n",
              "      gap: 12px;\n",
              "    }\n",
              "\n",
              "    .colab-df-convert {\n",
              "      background-color: #E8F0FE;\n",
              "      border: none;\n",
              "      border-radius: 50%;\n",
              "      cursor: pointer;\n",
              "      display: none;\n",
              "      fill: #1967D2;\n",
              "      height: 32px;\n",
              "      padding: 0 0 0 0;\n",
              "      width: 32px;\n",
              "    }\n",
              "\n",
              "    .colab-df-convert:hover {\n",
              "      background-color: #E2EBFA;\n",
              "      box-shadow: 0px 1px 2px rgba(60, 64, 67, 0.3), 0px 1px 3px 1px rgba(60, 64, 67, 0.15);\n",
              "      fill: #174EA6;\n",
              "    }\n",
              "\n",
              "    .colab-df-buttons div {\n",
              "      margin-bottom: 4px;\n",
              "    }\n",
              "\n",
              "    [theme=dark] .colab-df-convert {\n",
              "      background-color: #3B4455;\n",
              "      fill: #D2E3FC;\n",
              "    }\n",
              "\n",
              "    [theme=dark] .colab-df-convert:hover {\n",
              "      background-color: #434B5C;\n",
              "      box-shadow: 0px 1px 3px 1px rgba(0, 0, 0, 0.15);\n",
              "      filter: drop-shadow(0px 1px 2px rgba(0, 0, 0, 0.3));\n",
              "      fill: #FFFFFF;\n",
              "    }\n",
              "  </style>\n",
              "\n",
              "    <script>\n",
              "      const buttonEl =\n",
              "        document.querySelector('#df-4c696273-3ab7-4af2-90eb-665c4e798592 button.colab-df-convert');\n",
              "      buttonEl.style.display =\n",
              "        google.colab.kernel.accessAllowed ? 'block' : 'none';\n",
              "\n",
              "      async function convertToInteractive(key) {\n",
              "        const element = document.querySelector('#df-4c696273-3ab7-4af2-90eb-665c4e798592');\n",
              "        const dataTable =\n",
              "          await google.colab.kernel.invokeFunction('convertToInteractive',\n",
              "                                                    [key], {});\n",
              "        if (!dataTable) return;\n",
              "\n",
              "        const docLinkHtml = 'Like what you see? Visit the ' +\n",
              "          '<a target=\"_blank\" href=https://colab.research.google.com/notebooks/data_table.ipynb>data table notebook</a>'\n",
              "          + ' to learn more about interactive tables.';\n",
              "        element.innerHTML = '';\n",
              "        dataTable['output_type'] = 'display_data';\n",
              "        await google.colab.output.renderOutput(dataTable, element);\n",
              "        const docLink = document.createElement('div');\n",
              "        docLink.innerHTML = docLinkHtml;\n",
              "        element.appendChild(docLink);\n",
              "      }\n",
              "    </script>\n",
              "  </div>\n",
              "\n",
              "\n",
              "<div id=\"df-bb24d3f6-b3d6-4c21-a61e-0e52a75d37d7\">\n",
              "  <button class=\"colab-df-quickchart\" onclick=\"quickchart('df-bb24d3f6-b3d6-4c21-a61e-0e52a75d37d7')\"\n",
              "            title=\"Suggest charts\"\n",
              "            style=\"display:none;\">\n",
              "\n",
              "<svg xmlns=\"http://www.w3.org/2000/svg\" height=\"24px\"viewBox=\"0 0 24 24\"\n",
              "     width=\"24px\">\n",
              "    <g>\n",
              "        <path d=\"M19 3H5c-1.1 0-2 .9-2 2v14c0 1.1.9 2 2 2h14c1.1 0 2-.9 2-2V5c0-1.1-.9-2-2-2zM9 17H7v-7h2v7zm4 0h-2V7h2v10zm4 0h-2v-4h2v4z\"/>\n",
              "    </g>\n",
              "</svg>\n",
              "  </button>\n",
              "\n",
              "<style>\n",
              "  .colab-df-quickchart {\n",
              "      --bg-color: #E8F0FE;\n",
              "      --fill-color: #1967D2;\n",
              "      --hover-bg-color: #E2EBFA;\n",
              "      --hover-fill-color: #174EA6;\n",
              "      --disabled-fill-color: #AAA;\n",
              "      --disabled-bg-color: #DDD;\n",
              "  }\n",
              "\n",
              "  [theme=dark] .colab-df-quickchart {\n",
              "      --bg-color: #3B4455;\n",
              "      --fill-color: #D2E3FC;\n",
              "      --hover-bg-color: #434B5C;\n",
              "      --hover-fill-color: #FFFFFF;\n",
              "      --disabled-bg-color: #3B4455;\n",
              "      --disabled-fill-color: #666;\n",
              "  }\n",
              "\n",
              "  .colab-df-quickchart {\n",
              "    background-color: var(--bg-color);\n",
              "    border: none;\n",
              "    border-radius: 50%;\n",
              "    cursor: pointer;\n",
              "    display: none;\n",
              "    fill: var(--fill-color);\n",
              "    height: 32px;\n",
              "    padding: 0;\n",
              "    width: 32px;\n",
              "  }\n",
              "\n",
              "  .colab-df-quickchart:hover {\n",
              "    background-color: var(--hover-bg-color);\n",
              "    box-shadow: 0 1px 2px rgba(60, 64, 67, 0.3), 0 1px 3px 1px rgba(60, 64, 67, 0.15);\n",
              "    fill: var(--button-hover-fill-color);\n",
              "  }\n",
              "\n",
              "  .colab-df-quickchart-complete:disabled,\n",
              "  .colab-df-quickchart-complete:disabled:hover {\n",
              "    background-color: var(--disabled-bg-color);\n",
              "    fill: var(--disabled-fill-color);\n",
              "    box-shadow: none;\n",
              "  }\n",
              "\n",
              "  .colab-df-spinner {\n",
              "    border: 2px solid var(--fill-color);\n",
              "    border-color: transparent;\n",
              "    border-bottom-color: var(--fill-color);\n",
              "    animation:\n",
              "      spin 1s steps(1) infinite;\n",
              "  }\n",
              "\n",
              "  @keyframes spin {\n",
              "    0% {\n",
              "      border-color: transparent;\n",
              "      border-bottom-color: var(--fill-color);\n",
              "      border-left-color: var(--fill-color);\n",
              "    }\n",
              "    20% {\n",
              "      border-color: transparent;\n",
              "      border-left-color: var(--fill-color);\n",
              "      border-top-color: var(--fill-color);\n",
              "    }\n",
              "    30% {\n",
              "      border-color: transparent;\n",
              "      border-left-color: var(--fill-color);\n",
              "      border-top-color: var(--fill-color);\n",
              "      border-right-color: var(--fill-color);\n",
              "    }\n",
              "    40% {\n",
              "      border-color: transparent;\n",
              "      border-right-color: var(--fill-color);\n",
              "      border-top-color: var(--fill-color);\n",
              "    }\n",
              "    60% {\n",
              "      border-color: transparent;\n",
              "      border-right-color: var(--fill-color);\n",
              "    }\n",
              "    80% {\n",
              "      border-color: transparent;\n",
              "      border-right-color: var(--fill-color);\n",
              "      border-bottom-color: var(--fill-color);\n",
              "    }\n",
              "    90% {\n",
              "      border-color: transparent;\n",
              "      border-bottom-color: var(--fill-color);\n",
              "    }\n",
              "  }\n",
              "</style>\n",
              "\n",
              "  <script>\n",
              "    async function quickchart(key) {\n",
              "      const quickchartButtonEl =\n",
              "        document.querySelector('#' + key + ' button');\n",
              "      quickchartButtonEl.disabled = true;  // To prevent multiple clicks.\n",
              "      quickchartButtonEl.classList.add('colab-df-spinner');\n",
              "      try {\n",
              "        const charts = await google.colab.kernel.invokeFunction(\n",
              "            'suggestCharts', [key], {});\n",
              "      } catch (error) {\n",
              "        console.error('Error during call to suggestCharts:', error);\n",
              "      }\n",
              "      quickchartButtonEl.classList.remove('colab-df-spinner');\n",
              "      quickchartButtonEl.classList.add('colab-df-quickchart-complete');\n",
              "    }\n",
              "    (() => {\n",
              "      let quickchartButtonEl =\n",
              "        document.querySelector('#df-bb24d3f6-b3d6-4c21-a61e-0e52a75d37d7 button');\n",
              "      quickchartButtonEl.style.display =\n",
              "        google.colab.kernel.accessAllowed ? 'block' : 'none';\n",
              "    })();\n",
              "  </script>\n",
              "</div>\n",
              "\n",
              "  <div id=\"id_f0f441e2-817d-42b7-ac94-ac7004e9b7f1\">\n",
              "    <style>\n",
              "      .colab-df-generate {\n",
              "        background-color: #E8F0FE;\n",
              "        border: none;\n",
              "        border-radius: 50%;\n",
              "        cursor: pointer;\n",
              "        display: none;\n",
              "        fill: #1967D2;\n",
              "        height: 32px;\n",
              "        padding: 0 0 0 0;\n",
              "        width: 32px;\n",
              "      }\n",
              "\n",
              "      .colab-df-generate:hover {\n",
              "        background-color: #E2EBFA;\n",
              "        box-shadow: 0px 1px 2px rgba(60, 64, 67, 0.3), 0px 1px 3px 1px rgba(60, 64, 67, 0.15);\n",
              "        fill: #174EA6;\n",
              "      }\n",
              "\n",
              "      [theme=dark] .colab-df-generate {\n",
              "        background-color: #3B4455;\n",
              "        fill: #D2E3FC;\n",
              "      }\n",
              "\n",
              "      [theme=dark] .colab-df-generate:hover {\n",
              "        background-color: #434B5C;\n",
              "        box-shadow: 0px 1px 3px 1px rgba(0, 0, 0, 0.15);\n",
              "        filter: drop-shadow(0px 1px 2px rgba(0, 0, 0, 0.3));\n",
              "        fill: #FFFFFF;\n",
              "      }\n",
              "    </style>\n",
              "    <button class=\"colab-df-generate\" onclick=\"generateWithVariable('cowdata')\"\n",
              "            title=\"Generate code using this dataframe.\"\n",
              "            style=\"display:none;\">\n",
              "\n",
              "  <svg xmlns=\"http://www.w3.org/2000/svg\" height=\"24px\"viewBox=\"0 0 24 24\"\n",
              "       width=\"24px\">\n",
              "    <path d=\"M7,19H8.4L18.45,9,17,7.55,7,17.6ZM5,21V16.75L18.45,3.32a2,2,0,0,1,2.83,0l1.4,1.43a1.91,1.91,0,0,1,.58,1.4,1.91,1.91,0,0,1-.58,1.4L9.25,21ZM18.45,9,17,7.55Zm-12,3A5.31,5.31,0,0,0,4.9,8.1,5.31,5.31,0,0,0,1,6.5,5.31,5.31,0,0,0,4.9,4.9,5.31,5.31,0,0,0,6.5,1,5.31,5.31,0,0,0,8.1,4.9,5.31,5.31,0,0,0,12,6.5,5.46,5.46,0,0,0,6.5,12Z\"/>\n",
              "  </svg>\n",
              "    </button>\n",
              "    <script>\n",
              "      (() => {\n",
              "      const buttonEl =\n",
              "        document.querySelector('#id_f0f441e2-817d-42b7-ac94-ac7004e9b7f1 button.colab-df-generate');\n",
              "      buttonEl.style.display =\n",
              "        google.colab.kernel.accessAllowed ? 'block' : 'none';\n",
              "\n",
              "      buttonEl.onclick = () => {\n",
              "        google.colab.notebook.generateWithVariable('cowdata');\n",
              "      }\n",
              "      })();\n",
              "    </script>\n",
              "  </div>\n",
              "\n",
              "    </div>\n",
              "  </div>\n"
            ],
            "application/vnd.google.colaboratory.intrinsic+json": {
              "type": "dataframe",
              "variable_name": "cowdata",
              "summary": "{\n  \"name\": \"cowdata\",\n  \"rows\": 400,\n  \"fields\": [\n    {\n      \"column\": \"ID\",\n      \"properties\": {\n        \"dtype\": \"number\",\n        \"std\": 3346,\n        \"min\": 129,\n        \"max\": 11863,\n        \"num_unique_values\": 400,\n        \"samples\": [\n          7614,\n          8963,\n          1369\n        ],\n        \"semantic_type\": \"\",\n        \"description\": \"\"\n      }\n    },\n    {\n      \"column\": \"season\",\n      \"properties\": {\n        \"dtype\": \"number\",\n        \"std\": 0,\n        \"min\": 1,\n        \"max\": 2,\n        \"num_unique_values\": 2,\n        \"samples\": [\n          2,\n          1\n        ],\n        \"semantic_type\": \"\",\n        \"description\": \"\"\n      }\n    },\n    {\n      \"column\": \"lact\",\n      \"properties\": {\n        \"dtype\": \"number\",\n        \"std\": 1,\n        \"min\": 1,\n        \"max\": 8,\n        \"num_unique_values\": 8,\n        \"samples\": [\n          4,\n          2\n        ],\n        \"semantic_type\": \"\",\n        \"description\": \"\"\n      }\n    },\n    {\n      \"column\": \"calvingEase\",\n      \"properties\": {\n        \"dtype\": \"number\",\n        \"std\": 0,\n        \"min\": 1,\n        \"max\": 2,\n        \"num_unique_values\": 2,\n        \"samples\": [\n          2,\n          1\n        ],\n        \"semantic_type\": \"\",\n        \"description\": \"\"\n      }\n    },\n    {\n      \"column\": \"lameness\",\n      \"properties\": {\n        \"dtype\": \"number\",\n        \"std\": 1,\n        \"min\": 0,\n        \"max\": 6,\n        \"num_unique_values\": 7,\n        \"samples\": [\n          0,\n          2\n        ],\n        \"semantic_type\": \"\",\n        \"description\": \"\"\n      }\n    },\n    {\n      \"column\": \"mastitis\",\n      \"properties\": {\n        \"dtype\": \"number\",\n        \"std\": 1,\n        \"min\": 0,\n        \"max\": 9,\n        \"num_unique_values\": 10,\n        \"samples\": [\n          6,\n          1\n        ],\n        \"semantic_type\": \"\",\n        \"description\": \"\"\n      }\n    },\n    {\n      \"column\": \"reason\",\n      \"properties\": {\n        \"dtype\": \"category\",\n        \"num_unique_values\": 7,\n        \"samples\": [\n          \"7-Mastitis and Udder\",\n          \"3-Low production\"\n        ],\n        \"semantic_type\": \"\",\n        \"description\": \"\"\n      }\n    },\n    {\n      \"column\": \"lactStage\",\n      \"properties\": {\n        \"dtype\": \"category\",\n        \"num_unique_values\": 3,\n        \"samples\": [\n          \"Mid Lactation\",\n          \"Late Lactation\"\n        ],\n        \"semantic_type\": \"\",\n        \"description\": \"\"\n      }\n    },\n    {\n      \"column\": \"305ME\",\n      \"properties\": {\n        \"dtype\": \"number\",\n        \"std\": 3427.26092821112,\n        \"min\": 0.0,\n        \"max\": 20379.9,\n        \"num_unique_values\": 343,\n        \"samples\": [\n          9167.1,\n          14356.2\n        ],\n        \"semantic_type\": \"\",\n        \"description\": \"\"\n      }\n    },\n    {\n      \"column\": \"price\",\n      \"properties\": {\n        \"dtype\": \"number\",\n        \"std\": 12.341202867652381,\n        \"min\": 5.0,\n        \"max\": 84.5,\n        \"num_unique_values\": 88,\n        \"samples\": [\n          48.5,\n          53.5\n        ],\n        \"semantic_type\": \"\",\n        \"description\": \"\"\n      }\n    },\n    {\n      \"column\": \"BW\",\n      \"properties\": {\n        \"dtype\": \"number\",\n        \"std\": 230,\n        \"min\": 1090,\n        \"max\": 2165,\n        \"num_unique_values\": 162,\n        \"samples\": [\n          1180,\n          2070\n        ],\n        \"semantic_type\": \"\",\n        \"description\": \"\"\n      }\n    }\n  ]\n}"
            }
          },
          "metadata": {},
          "execution_count": 3
        }
      ],
      "source": [
        "import pandas as pd\n",
        "import warnings\n",
        "warnings.filterwarnings('ignore')\n",
        "cowdata = pd.read_csv(\"CullDairyCow_Data.csv\")\n",
        "cowdata"
      ],
      "id": "-P8Cy6aY73Y3"
    },
    {
      "cell_type": "markdown",
      "metadata": {
        "id": "QI_fsQKy73Y7"
      },
      "source": [
        "## DATA EDITING"
      ],
      "id": "QI_fsQKy73Y7"
    },
    {
      "cell_type": "code",
      "execution_count": 4,
      "metadata": {
        "id": "RBOhsWSW73Y8",
        "outputId": "1c322dd1-4ae2-48b4-cdaa-59ba78afca14",
        "colab": {
          "base_uri": "https://localhost:8080/",
          "height": 366
        }
      },
      "outputs": [
        {
          "output_type": "execute_result",
          "data": {
            "text/plain": [
              "lact\n",
              "2    134\n",
              "3     80\n",
              "1     79\n",
              "4     55\n",
              "5     28\n",
              "6     15\n",
              "7      7\n",
              "8      2\n",
              "Name: count, dtype: int64"
            ],
            "text/html": [
              "<div>\n",
              "<style scoped>\n",
              "    .dataframe tbody tr th:only-of-type {\n",
              "        vertical-align: middle;\n",
              "    }\n",
              "\n",
              "    .dataframe tbody tr th {\n",
              "        vertical-align: top;\n",
              "    }\n",
              "\n",
              "    .dataframe thead th {\n",
              "        text-align: right;\n",
              "    }\n",
              "</style>\n",
              "<table border=\"1\" class=\"dataframe\">\n",
              "  <thead>\n",
              "    <tr style=\"text-align: right;\">\n",
              "      <th></th>\n",
              "      <th>count</th>\n",
              "    </tr>\n",
              "    <tr>\n",
              "      <th>lact</th>\n",
              "      <th></th>\n",
              "    </tr>\n",
              "  </thead>\n",
              "  <tbody>\n",
              "    <tr>\n",
              "      <th>2</th>\n",
              "      <td>134</td>\n",
              "    </tr>\n",
              "    <tr>\n",
              "      <th>3</th>\n",
              "      <td>80</td>\n",
              "    </tr>\n",
              "    <tr>\n",
              "      <th>1</th>\n",
              "      <td>79</td>\n",
              "    </tr>\n",
              "    <tr>\n",
              "      <th>4</th>\n",
              "      <td>55</td>\n",
              "    </tr>\n",
              "    <tr>\n",
              "      <th>5</th>\n",
              "      <td>28</td>\n",
              "    </tr>\n",
              "    <tr>\n",
              "      <th>6</th>\n",
              "      <td>15</td>\n",
              "    </tr>\n",
              "    <tr>\n",
              "      <th>7</th>\n",
              "      <td>7</td>\n",
              "    </tr>\n",
              "    <tr>\n",
              "      <th>8</th>\n",
              "      <td>2</td>\n",
              "    </tr>\n",
              "  </tbody>\n",
              "</table>\n",
              "</div><br><label><b>dtype:</b> int64</label>"
            ]
          },
          "metadata": {},
          "execution_count": 4
        }
      ],
      "source": [
        "# Frequency for number of lactations\n",
        "cowdata[\"lact\"].value_counts(sort=True, ascending=False)"
      ],
      "id": "RBOhsWSW73Y8"
    },
    {
      "cell_type": "code",
      "execution_count": 5,
      "metadata": {
        "id": "IXqiRj_w73Y8"
      },
      "outputs": [],
      "source": [
        "# Lactation number 6 or higher lumped together into a single class (6)\n",
        "cowdata.loc[cowdata.lact > 6, \"lact\"] = 6"
      ],
      "id": "IXqiRj_w73Y8"
    },
    {
      "cell_type": "code",
      "execution_count": 6,
      "metadata": {
        "id": "LHWhqFz173Y9",
        "outputId": "d8431bc3-9927-4ba6-b88e-c13d7415445d",
        "colab": {
          "base_uri": "https://localhost:8080/",
          "height": 335
        }
      },
      "outputs": [
        {
          "output_type": "execute_result",
          "data": {
            "text/plain": [
              "lameness\n",
              "0    255\n",
              "1     85\n",
              "2     27\n",
              "4     19\n",
              "3     10\n",
              "5      2\n",
              "6      2\n",
              "Name: count, dtype: int64"
            ],
            "text/html": [
              "<div>\n",
              "<style scoped>\n",
              "    .dataframe tbody tr th:only-of-type {\n",
              "        vertical-align: middle;\n",
              "    }\n",
              "\n",
              "    .dataframe tbody tr th {\n",
              "        vertical-align: top;\n",
              "    }\n",
              "\n",
              "    .dataframe thead th {\n",
              "        text-align: right;\n",
              "    }\n",
              "</style>\n",
              "<table border=\"1\" class=\"dataframe\">\n",
              "  <thead>\n",
              "    <tr style=\"text-align: right;\">\n",
              "      <th></th>\n",
              "      <th>count</th>\n",
              "    </tr>\n",
              "    <tr>\n",
              "      <th>lameness</th>\n",
              "      <th></th>\n",
              "    </tr>\n",
              "  </thead>\n",
              "  <tbody>\n",
              "    <tr>\n",
              "      <th>0</th>\n",
              "      <td>255</td>\n",
              "    </tr>\n",
              "    <tr>\n",
              "      <th>1</th>\n",
              "      <td>85</td>\n",
              "    </tr>\n",
              "    <tr>\n",
              "      <th>2</th>\n",
              "      <td>27</td>\n",
              "    </tr>\n",
              "    <tr>\n",
              "      <th>4</th>\n",
              "      <td>19</td>\n",
              "    </tr>\n",
              "    <tr>\n",
              "      <th>3</th>\n",
              "      <td>10</td>\n",
              "    </tr>\n",
              "    <tr>\n",
              "      <th>5</th>\n",
              "      <td>2</td>\n",
              "    </tr>\n",
              "    <tr>\n",
              "      <th>6</th>\n",
              "      <td>2</td>\n",
              "    </tr>\n",
              "  </tbody>\n",
              "</table>\n",
              "</div><br><label><b>dtype:</b> int64</label>"
            ]
          },
          "metadata": {},
          "execution_count": 6
        }
      ],
      "source": [
        "# Frequency for number of lamness cases\n",
        "cowdata[\"lameness\"].value_counts(sort=True, ascending=False)"
      ],
      "id": "LHWhqFz173Y9"
    },
    {
      "cell_type": "code",
      "execution_count": 7,
      "metadata": {
        "id": "yjndwteP73Y-"
      },
      "outputs": [],
      "source": [
        "# Number of lamness cases larger than 4 lumped together into a single class (4)\n",
        "cowdata.loc[cowdata.lameness > 4, \"lameness\"] = 4"
      ],
      "id": "yjndwteP73Y-"
    },
    {
      "cell_type": "code",
      "execution_count": null,
      "metadata": {
        "id": "2faD_zMF73Y_"
      },
      "outputs": [],
      "source": [
        "# Frequency for number of lamness cases\n",
        "cowdata[\"mastitis\"].value_counts(sort=True, ascending=False)"
      ],
      "id": "2faD_zMF73Y_"
    },
    {
      "cell_type": "code",
      "execution_count": null,
      "metadata": {
        "id": "xFAC_9xk73Y_"
      },
      "outputs": [],
      "source": [
        "# a Number of mastitis cases larger than 4 lumped together into a single class (4)\n",
        "cowdata.loc[cowdata.mastitis > 4, \"mastitis\"] = 4"
      ],
      "id": "xFAC_9xk73Y_"
    },
    {
      "cell_type": "markdown",
      "metadata": {
        "id": "GWJHBFhq73ZA"
      },
      "source": [
        "## Creating dummy variables (One-Hot Encode)"
      ],
      "id": "GWJHBFhq73ZA"
    },
    {
      "cell_type": "code",
      "execution_count": null,
      "metadata": {
        "id": "aekcxkcD73ZA"
      },
      "outputs": [],
      "source": [
        "cowdata['reason'].value_counts(sort=True, ascending=False)"
      ],
      "id": "aekcxkcD73ZA"
    },
    {
      "cell_type": "code",
      "execution_count": null,
      "metadata": {
        "id": "lBrl6FV773ZB"
      },
      "outputs": [],
      "source": [
        "# Defining dummy variables\n",
        "cowdata_oh = pd.get_dummies(cowdata, columns=[\"season\", \"lact\", \"calvingEase\", \"lameness\", \"mastitis\", \"reason\", \"lactStage\"], drop_first=False)\n",
        "cowdata_oh"
      ],
      "id": "lBrl6FV773ZB"
    },
    {
      "cell_type": "markdown",
      "metadata": {
        "id": "kpKV-NKf73ZB"
      },
      "source": [
        "## Creating training and testing datasets"
      ],
      "id": "kpKV-NKf73ZB"
    },
    {
      "cell_type": "code",
      "execution_count": null,
      "metadata": {
        "id": "awX4PZeP73ZC"
      },
      "outputs": [],
      "source": [
        "# Adding continuous variables (305ME and BW) to the 30 dummy columns\n",
        "x = pd.concat([cowdata_oh.loc[:,'305ME'], cowdata_oh.loc[:,'BW':]], axis=1)\n",
        "x"
      ],
      "id": "awX4PZeP73ZC"
    },
    {
      "cell_type": "code",
      "execution_count": null,
      "metadata": {
        "id": "AWRaw_MB73ZC"
      },
      "outputs": [],
      "source": [
        "print(x.columns.tolist())"
      ],
      "id": "AWRaw_MB73ZC"
    },
    {
      "cell_type": "code",
      "source": [
        "# Center and Standardize all features (force mean=0 and standard deviation=1)\n",
        "x_std = pd.concat([cowdata_oh.loc[:,'305ME'], cowdata_oh.loc[:,'BW':]], axis=1)\n",
        "x_std = (x_std - x_std.mean()) / x_std.std() # Subtract mean and divide by standard deviation\n",
        "x_std"
      ],
      "metadata": {
        "id": "naV_hUMCPEm0"
      },
      "id": "naV_hUMCPEm0",
      "execution_count": null,
      "outputs": []
    },
    {
      "cell_type": "code",
      "execution_count": null,
      "metadata": {
        "id": "-f-kOe-J73ZC"
      },
      "outputs": [],
      "source": [
        "# Response variable vector\n",
        "y = cowdata_oh[[\"price\"]]\n",
        "y"
      ],
      "id": "-f-kOe-J73ZC"
    },
    {
      "cell_type": "code",
      "execution_count": null,
      "metadata": {
        "id": "s8hTHl5i73ZD"
      },
      "outputs": [],
      "source": [
        "# Split the data set into training (70%) and testing (30%)\n",
        "from sklearn.model_selection import train_test_split\n",
        "x_train, x_test, y_train, y_test = train_test_split(x_std, y, test_size=0.30, shuffle=True, random_state=40)\n",
        "print(\"N. samples training %s , N. samples testing %s\" % (x_train.shape[0], x_test.shape[0]))"
      ],
      "id": "s8hTHl5i73ZD"
    },
    {
      "cell_type": "markdown",
      "metadata": {
        "id": "fS20VhiI73ZI"
      },
      "source": [
        "# NEURAL NETWORKS"
      ],
      "id": "fS20VhiI73ZI"
    },
    {
      "cell_type": "markdown",
      "metadata": {
        "id": "zg2H79C473ZI"
      },
      "source": [
        "## Data pre-processing"
      ],
      "id": "zg2H79C473ZI"
    },
    {
      "cell_type": "code",
      "execution_count": null,
      "metadata": {
        "id": "uAPal_YS73ZI"
      },
      "outputs": [],
      "source": [
        "# Response variable vector\n",
        "y = cowdata_oh[[\"price\"]]\n",
        "y"
      ],
      "id": "uAPal_YS73ZI"
    },
    {
      "cell_type": "markdown",
      "metadata": {
        "id": "5t3ZMUKU73ZJ"
      },
      "source": [
        "##  Training (GridSearch)"
      ],
      "id": "5t3ZMUKU73ZJ"
    },
    {
      "cell_type": "code",
      "execution_count": null,
      "metadata": {
        "id": "LmwlfqaR73ZJ"
      },
      "outputs": [],
      "source": [
        "# GridSearch using k-fold cross-validation\n",
        "from sklearn.neural_network import MLPRegressor\n",
        "from sklearn.model_selection import GridSearchCV\n",
        "nfolds = 3\n",
        "metrics = ('r2', 'neg_mean_absolute_error', 'neg_root_mean_squared_error')\n",
        "parameters = {'activation':('relu', 'tanh'),\n",
        "              'hidden_layer_sizes': [(100,80),(120,100),(180,120)],\n",
        "              'random_state':[40]}\n",
        "\n",
        "nn = MLPRegressor()\n",
        "nn = GridSearchCV(nn, parameters, scoring=metrics, cv=nfolds, refit = metrics[2], return_train_score = True)\n",
        "nn.fit(x_train, y_train)"
      ],
      "id": "LmwlfqaR73ZJ"
    },
    {
      "cell_type": "code",
      "execution_count": null,
      "metadata": {
        "id": "qnn8eHyr73ZJ"
      },
      "outputs": [],
      "source": [
        "# Matrics - training\n",
        "pd.DataFrame({'Activation': nn.cv_results_[\"param_activation\"],\n",
        "              'Layer Sizes': nn.cv_results_['param_hidden_layer_sizes'],\n",
        "              'R2': nn.cv_results_[\"mean_test_r2\"],\n",
        "              'MAE': abs(nn.cv_results_['mean_test_neg_mean_absolute_error']),\n",
        "              'RMSE': abs(nn.cv_results_['mean_test_neg_root_mean_squared_error'])})"
      ],
      "id": "qnn8eHyr73ZJ"
    },
    {
      "cell_type": "markdown",
      "metadata": {
        "id": "O5i5-w1n73ZJ"
      },
      "source": [
        "## Testing"
      ],
      "id": "O5i5-w1n73ZJ"
    },
    {
      "cell_type": "code",
      "execution_count": null,
      "metadata": {
        "id": "__T4yx7j73ZK"
      },
      "outputs": [],
      "source": [
        "# Print best activation function, layer size, and RMSE, and testing the best model using the test set\n",
        "print(\"Best Activation: %s, Layer Size: %s, RMSE: %.6f\" % (nn.best_params_['activation'], nn.best_params_['hidden_layer_sizes'], abs(nn.best_score_)))\n",
        "ypred = nn.best_estimator_.predict(x_test)"
      ],
      "id": "__T4yx7j73ZK"
    },
    {
      "cell_type": "code",
      "execution_count": null,
      "metadata": {
        "id": "QjvugfYg73ZK"
      },
      "outputs": [],
      "source": [
        "# Scatter plot - predicted and observed\n",
        "import matplotlib.pyplot as plt\n",
        "import numpy as np\n",
        "ypred = np.ravel(ypred)\n",
        "plt.plot(ypred, y_test, 'o')\n",
        "m, b = np.polyfit(ypred, y_test, 1)\n",
        "plt.plot(ypred, m*ypred + b)"
      ],
      "id": "QjvugfYg73ZK"
    },
    {
      "cell_type": "code",
      "execution_count": null,
      "metadata": {
        "id": "BTi9cX7c73ZK"
      },
      "outputs": [],
      "source": [
        "# Metrics - testing\n",
        "from sklearn.metrics import *\n",
        "\n",
        "pd.DataFrame({'Activation': [nn.best_params_['activation']],\n",
        "              'Layer Size': [nn.best_params_['hidden_layer_sizes']],\n",
        "              'R2': r2_score(y_test, ypred),\n",
        "              'MAE': [abs(mean_absolute_error(y_test, ypred))],\n",
        "              'RMSE': [abs(mean_squared_error(y_test, ypred, squared=False))]})"
      ],
      "id": "BTi9cX7c73ZK"
    }
  ],
  "metadata": {
    "kernelspec": {
      "display_name": "Python 3",
      "language": "python",
      "name": "python3"
    },
    "language_info": {
      "codemirror_mode": {
        "name": "ipython",
        "version": 3
      },
      "file_extension": ".py",
      "mimetype": "text/x-python",
      "name": "python",
      "nbconvert_exporter": "python",
      "pygments_lexer": "ipython3",
      "version": "3.6.13"
    },
    "colab": {
      "provenance": [],
      "include_colab_link": true
    }
  },
  "nbformat": 4,
  "nbformat_minor": 5
}